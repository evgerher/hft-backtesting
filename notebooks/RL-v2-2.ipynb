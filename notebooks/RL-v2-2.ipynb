{
 "cells": [
  {
   "cell_type": "code",
   "execution_count": 1,
   "metadata": {},
   "outputs": [
    {
     "name": "stdout",
     "output_type": "stream",
     "text": [
      "/home/user/hft-backtesting\n"
     ]
    }
   ],
   "source": [
    "%cd .."
   ]
  },
  {
   "cell_type": "code",
   "execution_count": 2,
   "metadata": {},
   "outputs": [],
   "source": [
    "import glob\n",
    "import os\n",
    "import datetime\n",
    "import random\n",
    "from tqdm import notebook\n",
    "\n",
    "from collections import deque, namedtuple, defaultdict\n",
    "from typing import Union, List, Dict, Tuple, NamedTuple, Deque, Optional\n",
    "\n",
    "import pandas as pd\n",
    "import numpy as np"
   ]
  },
  {
   "cell_type": "code",
   "execution_count": 3,
   "metadata": {
    "scrolled": true
   },
   "outputs": [],
   "source": [
    "from hft.utils import logger\n",
    "logger.to_file = True\n",
    "logger.fmt_string = \"%(message)s\"\n",
    "\n",
    "from hft.backtesting.backtest import BacktestOnSample\n",
    "from hft.backtesting.data import OrderStatus, OrderRequest\n",
    "from hft.backtesting.readers import OrderbookReader\n",
    "from hft.backtesting.strategy import Strategy, CancelsApplied\n",
    "from hft.units.metrics.composite import Lipton\n",
    "from hft.units.metrics.instant import VWAP_volume, LiquiditySpectrum, HayashiYoshido\n",
    "from hft.units.metrics.time import TradeMetric\n",
    "from hft.utils.data import Trade, OrderBook\n",
    "from hft.backtesting.output import make_plot_orderbook_trade, Output, SimulatedOrdersOutput"
   ]
  },
  {
   "cell_type": "markdown",
   "metadata": {},
   "source": [
    "## Dueling DQN \n",
    "\n",
    "Dueling DQN implementation with target network implementation on pytorch.  "
   ]
  },
  {
   "cell_type": "code",
   "execution_count": 4,
   "metadata": {
    "scrolled": true
   },
   "outputs": [],
   "source": [
    "import torch\n",
    "from torch import nn\n",
    "from torch import autograd\n",
    "\n",
    "class DuelingDQN(nn.Module):\n",
    "  def __init__(self, input_dim: int, output_dim: int):\n",
    "    super().__init__()\n",
    "    self.input_dim: int = input_dim\n",
    "    self.output_dim: int = output_dim\n",
    "\n",
    "    self.feature_layer = nn.Sequential(\n",
    "      nn.Linear(input_dim, 256),\n",
    "      nn.LayerNorm(256),\n",
    "      nn.ReLU(),\n",
    "      nn.Linear(256, 256),\n",
    "      nn.LayerNorm(256),\n",
    "      nn.ReLU()\n",
    "    )\n",
    "\n",
    "    self.value_stream = nn.Sequential(\n",
    "      nn.Linear(256, 128),\n",
    "      nn.LayerNorm(128),\n",
    "      nn.ReLU(),\n",
    "      nn.Linear(128, 1)\n",
    "    )\n",
    "\n",
    "    self.advantage_stream = nn.Sequential(\n",
    "      nn.Linear(256, 256),\n",
    "      nn.LayerNorm(256),\n",
    "      nn.ReLU(),\n",
    "      nn.Linear(256, self.output_dim)\n",
    "    )\n",
    "\n",
    "  def forward(self, x):\n",
    "    x = self.feature_layer(x)\n",
    "    value = self.value_stream(x)\n",
    "    adv = self.advantage_stream(x)\n",
    "    qvals = value + (adv - adv.mean())\n",
    "    return value, adv, qvals"
   ]
  },
  {
   "cell_type": "markdown",
   "metadata": {},
   "source": [
    "## Decision condition\n",
    "\n",
    "Class defines moments when model will make actions.  \n",
    "Model's reaction on __each__ snapshot update would be incredibly expensive, thus it reacts _volume-based_.  "
   ]
  },
  {
   "cell_type": "code",
   "execution_count": 5,
   "metadata": {},
   "outputs": [],
   "source": [
    "class DecisionCondition:\n",
    "  def __init__(self, mu: float, std: float = 1.0):\n",
    "    assert mu > 0\n",
    "    assert std > 0\n",
    "\n",
    "    self.mu = mu\n",
    "    self.std = std\n",
    "    self.lower = self.mu * 0.5\n",
    "    self.upper = self.mu * 1.5\n",
    "\n",
    "    self.volume_condition: float = self._generate_volume()\n",
    "    self.reset()\n",
    "\n",
    "  def _generate_volume(self):\n",
    "    v = random.gauss(self.mu, self.std)\n",
    "    clipped = self.lower if v < self.lower else self.upper if v > self.upper else v\n",
    "    return clipped\n",
    "\n",
    "\n",
    "  def __call__(self, is_trade: bool, event: Union[Trade, OrderBook]):\n",
    "    if is_trade and event.symbol == 'XBTUSD':\n",
    "      self.volume += event.volume\n",
    "      if self.volume > self.volume_condition:\n",
    "        self.volume %= self.volume_condition\n",
    "        self.volume_condition = self._generate_volume()\n",
    "        return True\n",
    "    return False\n",
    "\n",
    "  def reset(self):\n",
    "    self.volume = 0.0"
   ]
  },
  {
   "cell_type": "markdown",
   "metadata": {},
   "source": [
    "## Agent\n",
    "\n",
    "Class stores inner operation for RL:\n",
    "\n",
    "- Stores _replay buffer_  \n",
    "- Generates actions via model or random  \n",
    "- Evaluates rewards and updates models  "
   ]
  },
  {
   "cell_type": "code",
   "execution_count": 6,
   "metadata": {},
   "outputs": [],
   "source": [
    "class Agent:\n",
    "  def __init__(self, model: DuelingDQN, target: DuelingDQN,\n",
    "               condition: DecisionCondition,\n",
    "               gamma=0.98, lr=1e-3,\n",
    "               update_each: int = 100,\n",
    "               buffer_size: int = 20000, batch_size=1024):\n",
    "    self._replay_buffer: Deque[State] = deque(maxlen=buffer_size)\n",
    "    self._batch_size: int = batch_size\n",
    "    self.condition: DecisionCondition = condition\n",
    "    self._model: DuelingDQN = model\n",
    "    self._target: DuelingDQN = target\n",
    "    self.end_episode_states: List = []\n",
    "    self.episode_files: List[Tuple[str, str]] = []\n",
    "\n",
    "    self.EPS_START = 0.9\n",
    "    self.EPS_END = 0.05\n",
    "    self.EPS_DECAY = 250\n",
    "\n",
    "    self.gamma = gamma\n",
    "    self.loss = torch.nn.SmoothL1Loss()\n",
    "    self.losses = []\n",
    "    self.optimizer = torch.optim.Adam(self._model.parameters(), lr=lr, amsgrad=True)\n",
    "\n",
    "    self._update_each = update_each\n",
    "    self.episode_counter = 0\n",
    "\n",
    "    self.no_action_event = deque(maxlen=20)\n",
    "    self.reset_state()\n",
    "    self._is_training: bool = True\n",
    "\n",
    "  def train(self):\n",
    "    self._is_training = True\n",
    "    self._model.train()\n",
    "    self._target.eval()\n",
    "\n",
    "  def eval(self):\n",
    "    self._is_training = False\n",
    "    self._model.eval()\n",
    "    self._target.eval()\n",
    "\n",
    "  def store_no_action(self, ts, price):\n",
    "    self.no_action_event[0].append((ts, price))\n",
    "\n",
    "  def episode_results(self) -> pd.DataFrame:\n",
    "    fnames, states = agent.episode_files, agent.end_episode_states\n",
    "    states = [t[0].tolist() + [t[1]] for t in states]\n",
    "    episodes = [list(t[0]) + t[1] for t in zip(fnames, states)]\n",
    "    res = pd.DataFrame(episodes, columns=['ob_file', 'tr_file', 'usd', 'xbt', 'eth', 'xbt_price'])\n",
    "    res['nav'] = res.usd + res.xbt_price * res.xbt\n",
    "    return res\n",
    "\n",
    "  def reset_state(self):\n",
    "    self.obs = None\n",
    "    self.action = None\n",
    "    self.ps = None\n",
    "    self.episode_counter += 1\n",
    "    self.condition.reset()\n",
    "    self.no_action_event.appendleft([])\n",
    "\n",
    "    # reload weights\n",
    "    state = self._model.state_dict()\n",
    "    if (self.episode_counter + 1) % self._update_each == 0:\n",
    "      self._target.load_state_dict(state)\n",
    "      torch.save(state, f'models/model-v2_2-{self.episode_counter+1}.pth')\n",
    "    torch.save(state, f'model-latest-v2_2.pth')\n",
    "\n",
    "  def get_new_reward(self, ps, ps_new, price, sigma, scale_rav=1.0/10, a=1.0):\n",
    "    g1 = self.get_risk_adjusted_state_value(ps, price, sigma, scale=scale_rav)\n",
    "    g2 = self.get_risk_adjusted_state_value(ps_new, price, sigma, scale=scale_rav)\n",
    "    return a * (g2 - g1)\n",
    "\n",
    "  def get_risk_adjusted_state_value(self, ps: torch.FloatTensor, price: torch.FloatTensor, sigma: torch.FloatTensor,\n",
    "                                    tau=1.0, lambd=0.2, scale=1.0 / 10):\n",
    "    nav = (ps[:, 0] + ps[:, 1]) * price  # updated to dollar NAV\n",
    "    risk = torch.abs(ps[:, 1] * price) * tau * sigma  # updated here: sqrt of tau ; N(1, 1) * tau, sigma \\in 1e-5\n",
    "\n",
    "    return (nav - lambd * risk) * scale\n",
    "\n",
    "  def store_episode(self, new_obs, done, action, prices):\n",
    "    if self._is_training:\n",
    "      nans = [np.isnan(t).any() for t in [new_obs, done, action, prices]]\n",
    "      if not any(nans):\n",
    "        if self.is_initialized():\n",
    "          self._replay_buffer.append((self.obs, self.action, new_obs, done, prices))\n",
    "        self.obs = new_obs\n",
    "        self.action = action\n",
    "        self.prices = prices\n",
    "\n",
    "  def is_initialized(self):\n",
    "    return self.obs is not None  # happens after reset, first obs is missing\n",
    "\n",
    "  def get_action(self, obs):\n",
    "    if self._is_training:\n",
    "      eps = self.EPS_END + (self.EPS_START - self.EPS_END) * np.exp(-1. * self.episode_counter / self.EPS_DECAY)\n",
    "      if np.random.uniform(0.0, 1.0) < eps :\n",
    "        return random.randint(0, self._model.output_dim - 1)\n",
    "    with torch.no_grad():\n",
    "      _, _, qvals = self._target(torch.tensor(obs, dtype=torch.float, device=device).unsqueeze(0))\n",
    "      action = torch.argmax(qvals).cpu().detach().item()\n",
    "      return action\n",
    "\n",
    "  def update(self):\n",
    "    if len(self._replay_buffer) > self._batch_size and self._is_training:\n",
    "      items = random.sample(self._replay_buffer, self._batch_size)\n",
    "      obs, action, next_obs, done, price = zip(*items)\n",
    "      obs, next_obs, price = map(lambda x: torch.tensor(x, dtype=torch.float).to(device), [obs, next_obs, price])\n",
    "      done = torch.tensor(done, dtype=torch.bool).to(device)\n",
    "      action = torch.tensor(action, dtype=torch.long).unsqueeze(1).to(device)\n",
    "\n",
    "      ps, rs            = obs[:, -3:-1], obs[:, -1]\n",
    "      next_ps, next_rs  = next_obs[:, -3:-1], next_obs[:, -1]\n",
    "\n",
    "      qvalues = self._model(obs)[2]\n",
    "      next_qvalues = self._target(next_obs[~done])[2]\n",
    "      next_qvalues = next_qvalues.max(1)[0]\n",
    "\n",
    "      rewards = torch.zeros(size=done.shape, dtype=torch.float, device=device)\n",
    "      rewards[~done] = self.get_new_reward(ps[~done], next_ps[~done], price[~done], rs[~done])\n",
    "      rewards[done]  = self.get_risk_adjusted_state_value(next_ps[done], price[done], rs[done])\n",
    "\n",
    "      rewards = rewards.clamp(-1.5, 1.5)  # reward clipping\n",
    "\n",
    "      qvalues = qvalues.gather(1, action).squeeze(1)\n",
    "\n",
    "      expected_q = torch.zeros(size=done.shape, dtype=torch.float, device=device)\n",
    "      expected_q[~done] = self.gamma * next_qvalues\n",
    "      expected_q += rewards\n",
    "\n",
    "      loss = self.loss(qvalues, expected_q)  # or hubert loss\n",
    "      self.losses.append(loss.detach().cpu().sum().item())\n",
    "      if torch.isinf(loss).any() or torch.isnan(loss).any():\n",
    "        print('nan is here')\n",
    "      self.optimizer.zero_grad()\n",
    "      loss.backward()\n",
    "      for param in self._model.parameters():\n",
    "        param.grad.data.clamp_(-1., 1.)  # gradient clipping\n",
    "      self.optimizer.step()"
   ]
  },
  {
   "cell_type": "markdown",
   "metadata": {},
   "source": [
    "## RL Strategy\n",
    "\n",
    "Class wrapper for RL operations: \n",
    "\n",
    "- Provides observations, portfolio states\n",
    "- Transforms action space into orders\n",
    "- Communicates with backtest"
   ]
  },
  {
   "cell_type": "code",
   "execution_count": 7,
   "metadata": {},
   "outputs": [],
   "source": [
    "class VWAP_modification(VWAP_volume):\n",
    "  def __init__(self, T=10, **kwargs):\n",
    "    super().__init__(**kwargs)\n",
    "    self.storage = defaultdict(lambda: deque(maxlen=T))\n",
    "    self.low   = defaultdict(lambda: None)\n",
    "    self.high =  defaultdict(lambda: None)\n",
    "    self.close = defaultdict(lambda: None)\n",
    "    self.open =  defaultdict(lambda: None)\n",
    "    self.last =  defaultdict(lambda: None)\n",
    "\n",
    "  '''\n",
    "  VWAP modification: returns vwap_offset and vwap_spread instead of bid,ask,midprice\n",
    "\n",
    "  Also computes RS volatility\n",
    "  '''\n",
    "  def _evaluate(self, snapshot: OrderBook) -> np.array:\n",
    "    vwap: np.array = super()._evaluate(snapshot)\n",
    "    vwap_spread = (vwap[1,:] - vwap[0,:]) - 0.5  # vwap_ask - vwap_bid - default_spread\n",
    "    midprice = (snapshot.bid_prices[0] + snapshot.ask_prices[0]) / 2\n",
    "    vwap_offset = np.abs(vwap[[0,1], :] - midprice)\n",
    "\n",
    "    self.process(vwap[2, :], snapshot.symbol) # compute RS based on vwap_midprices\n",
    "\n",
    "    return np.vstack([vwap_offset, vwap_spread]) # 3 rows\n",
    "\n",
    "  def process(self, result: np.array, symbol: str):\n",
    "    if self.open[symbol] is None:\n",
    "      self.open[symbol] = result\n",
    "      self.low[symbol] = result\n",
    "      self.high[symbol] = result\n",
    "    else:\n",
    "      self.low[symbol] = np.minimum(self.low[symbol], result)\n",
    "      self.high[symbol] = np.maximum(self.high[symbol], result)\n",
    "\n",
    "    self.last[symbol] = result\n",
    "\n",
    "  def reset(self, symbol: str) -> np.array:\n",
    "    self.close[symbol] = self.last[symbol]\n",
    "\n",
    "    sigma_sq = np.log(self.high[symbol] / self.close[symbol]) * np.log(self.high[symbol] / self.open[symbol])\\\n",
    "               + np.log(self.low[symbol] / self.close[symbol]) * np.log(self.low[symbol] / self.open[symbol])\n",
    "    self.storage[symbol].append(sigma_sq)\n",
    "\n",
    "    self.low[symbol] = self.last[symbol]\n",
    "    self.high[symbol] = self.last[symbol]\n",
    "    self.open[symbol] = self.last[symbol]\n",
    "\n",
    "    return np.sqrt(np.sum(self.storage[symbol], axis=0) / len(self.storage[symbol]) + 1e-8) + 1e-4"
   ]
  },
  {
   "cell_type": "code",
   "execution_count": 18,
   "metadata": {},
   "outputs": [],
   "source": [
    "class RLStrategy(Strategy):\n",
    "  def __init__(self, agent: Agent, rs: 'VWAP_modification', episode_length: int, cancels_enabled=False, **kwags):\n",
    "    super().__init__(**kwags)\n",
    "    self.agent: Agent = agent\n",
    "    self.rs: VWAP_modification = rs\n",
    "    # self._simulation_end: datetime.datetime = simulation_end\n",
    "    self.action_space: Dict[int, Tuple[int, int]] = {\n",
    "      0: (-1, 0),\n",
    "      1: (0, -1),\n",
    "      2: (-1, -1),\n",
    "      3: (0, 0),\n",
    "      4: (0, 1),\n",
    "      5: (1, 0),\n",
    "      6: (1, 1),\n",
    "      7: (-1, 1),\n",
    "      8: (1, -1),\n",
    "    }\n",
    "    self.cancels_enabled = cancels_enabled\n",
    "    self.no_action_event = []\n",
    "    self._episode_length = episode_length\n",
    "    self.prices = None\n",
    "    \n",
    "  def _balance_listener(self, memory: Dict[str, Union[Trade, OrderBook]],\n",
    "                        ts: datetime.datetime,\n",
    "                        orders: List[OrderRequest],\n",
    "                        statuses: List[OrderStatus]):\n",
    "    if self.balance_listener is not None and (len(orders) > 0 or len(statuses) > 0):\n",
    "      midpoint_xbt = (memory[('orderbook', 'XBTUSD')].bid_prices[0] + memory[('orderbook', 'XBTUSD')].ask_prices[0]) / 2\n",
    "\n",
    "      state = (self.balance['USD'], self.balance['XBTUSD'], midpoint_xbt, ts, *self.position['XBTUSD'])\n",
    "      self.balance_listener(state)\n",
    "\n",
    "  def return_unfinished(self, statuses: List[OrderStatus], memory: Dict[str, Union[Trade, OrderBook]]):\n",
    "    super().return_unfinished(statuses, memory)\n",
    "    rs = self.rs.reset('XBTUSD')[0]\n",
    "    obs, ps, prices = self.get_observation(memory, rs)\n",
    "    self.agent.store_episode(obs, True, 0, prices)\n",
    "    self.agent.end_episode_states.append((ps, prices, self.pennies))  # end state and prices\n",
    "    self.agent.reset_state()\n",
    "\n",
    "  def get_price_change(self, price) -> np.array:\n",
    "    storage1: List[Trade] = self.metrics_map['trade-metric-120'].storage[('XBTUSD', 0)]\n",
    "    storage2: List[Trade] = self.metrics_map['trade-metric-60'].storage[('XBTUSD', 0)]\n",
    "\n",
    "    prices1 = np.array([t.price for t in storage1])\n",
    "    prices2 = np.array([t.price for t in storage2])\n",
    "\n",
    "    pc1 = (price - prices1.mean()) / 0.5  # xbtusd price step = 0.5 USD\n",
    "    pc2 = (price - prices2.mean()) / 0.5  # xbtusd price step = 0.5 USD\n",
    "    pc = np.array([pc1, pc2], dtype=np.float)\n",
    "\n",
    "    return np.sign(pc) * np.log(np.abs(pc) + 1)\n",
    "\n",
    "  def get_observation(self, memory, rs):\n",
    "    items = list(map(lambda name: self.metrics_map[name].to_numpy('XBTUSD'), names + time_names))\n",
    "\n",
    "    prices = self.get_prices(memory)\n",
    "    pc = self.get_price_change(prices) # price change\n",
    "    items = np.concatenate([t.flatten() for t in items + [pc]]).clip(-5.0, 5.0)\n",
    "\n",
    "    ps = self.get_state()\n",
    "\n",
    "    state = np.array([ps[0] / prices, ps[1], rs], dtype=np.float)\n",
    "    items = np.concatenate([items, state], axis=None)\n",
    "    return items, ps, prices\n",
    "\n",
    "  def get_prices(self, memory) -> float:  # todo: refactor and use vwap\n",
    "    xbt: OrderBook = memory[('orderbook', 'XBTUSD')]\n",
    "    xbt_midprice = (xbt.ask_prices[0] + xbt.bid_prices[0]) / 2\n",
    "\n",
    "    # eth: OrderBook = memory[('orderbook', 'ETHUSD')]\n",
    "    # eth_midprice = (eth.ask_prices[0] + eth.bid_prices[0]) / 2\n",
    "\n",
    "    return xbt_midprice\n",
    "\n",
    "  def get_state(self) -> np.array:\n",
    "    return np.array(list(self.balance.values()))\n",
    "\n",
    "  def get_timeleft(self, ts: datetime.datetime) -> float:\n",
    "    t = ((self._simulation_end - ts).total_seconds() % self._episode_length) / self._episode_length\n",
    "    return (t - 0.5) * 2\n",
    "    # 10 minute episodes\n",
    "\n",
    "  def action_to_order(self, action: int, memory, ts, quantity: int) -> List[OrderRequest]:\n",
    "    offset_bid, offset_ask = self.action_space[action]\n",
    "\n",
    "    offset_bid *= 0.5  # price step is .5 dollars\n",
    "    offset_ask *= 0.5\n",
    "\n",
    "    ob: OrderBook = memory[('orderbook', 'XBTUSD')]\n",
    "    orders = []\n",
    "\n",
    "    if offset_bid >= 0:\n",
    "      orders.append(OrderRequest.create_bid(ob.bid_prices[0] - offset_bid, quantity, 'XBTUSD', ts))\n",
    "    if offset_ask >= 0:\n",
    "      orders.append(OrderRequest.create_ask(ob.ask_prices[0] + offset_ask, quantity, 'XBTUSD', ts))\n",
    "\n",
    "    return orders\n",
    "\n",
    "  def cancel_orders(self, statuses: List[OrderStatus], ts: datetime.datetime) -> List[OrderRequest]:\n",
    "    statuses_ids = list(map(lambda x: x.id, statuses))\n",
    "    active_ids = self.active_orders.keys()\n",
    "    active_non_present = filter(lambda x: x not in statuses_ids, active_ids)\n",
    "    return list(map(lambda x: OrderRequest.cancelOrder(self.active_orders[x], ts), active_non_present))\n",
    "\n",
    "  def define_orders(self, row: Union[Trade, OrderBook],\n",
    "                    statuses: List[OrderStatus],\n",
    "                    memory: Dict[str, Union[Trade, OrderBook]],\n",
    "                    is_trade: bool) -> List[OrderRequest]:\n",
    "    if self.agent.condition(is_trade, row):\n",
    "      orders = []\n",
    "      cancels = []\n",
    "      if self.cancels_enabled:\n",
    "        cancels = self.cancel_orders(statuses, row.timestamp)\n",
    "        orders += cancels\n",
    "\n",
    "      rs = self.rs.reset('XBTUSD')[0]\n",
    "      with CancelsApplied(self, cancels):\n",
    "        obs, ps, prices = self.get_observation(memory, rs)\n",
    "        action = self.agent.get_action(obs)\n",
    "        if action == 2:\n",
    "          self.agent.store_no_action(row.timestamp, prices)\n",
    "        self.agent.store_episode(obs, False, action, prices)\n",
    "\n",
    "      self.agent.update()\n",
    "\n",
    "      orders += self.action_to_order(action, memory, row.timestamp, 1000)\n",
    "\n",
    "    else:\n",
    "      orders = []\n",
    "    return orders"
   ]
  },
  {
   "cell_type": "markdown",
   "metadata": {},
   "source": [
    "## Training loop"
   ]
  },
  {
   "cell_type": "code",
   "execution_count": 19,
   "metadata": {},
   "outputs": [],
   "source": [
    "# matrices: [2, 4, 2], [2,3,2], [2, 2], [2]\n",
    "names = ['vwap', 'liquidity-spectrum', 'hayashi-yoshido', 'lipton']\n",
    "# [2, 2], [2, 2]\n",
    "time_names = ['trade-metric-60', 'trade-metric-120']"
   ]
  },
  {
   "cell_type": "markdown",
   "metadata": {},
   "source": [
    "### Simulation wrapper"
   ]
  },
  {
   "cell_type": "code",
   "execution_count": 21,
   "metadata": {},
   "outputs": [],
   "source": [
    "def compare_strategies(s1: RLStrategy, s2, orderbook_file: str, trade_file: str,\n",
    "                       delay=1) -> Tuple:\n",
    "\n",
    "  r1 = TimeLimitedReader(orderbook_file, limit_time='100 min', trades_file=trade_file, nrows=500000)\n",
    "  r2 = TimeLimitedReader(orderbook_file, limit_time='100 min', trades_file=trade_file, nrows=500000)\n",
    "\n",
    "  o1 = SimulatedOrdersOutput()\n",
    "  o2 = SimulatedOrdersOutput()\n",
    "\n",
    "  s1.balance_listener = o1.balances.append\n",
    "  s2.balance_listener = o2.balances.append\n",
    "\n",
    "  b1 = Backtest(r1, s1, o1, delay=delay, warmup=True, stale_depth=8)\n",
    "  b2 = Backtest(r2, s2, o2, delay=delay, warmup=False, stale_depth=2)\n",
    "\n",
    "  b1.run()\n",
    "  b2.run()\n",
    "\n",
    "  return o1, o2"
   ]
  },
  {
   "cell_type": "code",
   "execution_count": 22,
   "metadata": {},
   "outputs": [],
   "source": [
    "def prepare_rl_strategy(agent: Agent, cancels_enabled=True) -> RLStrategy:\n",
    "  vwap = VWAP_modification(T=20, volumes=[5e5, 1e6], name='vwap', z_normalize=1000)\n",
    "  liq = LiquiditySpectrum(z_normalize=3000)\n",
    "\n",
    "  defaults = [\n",
    "    (('XBTUSD', 0), [0.0]),\n",
    "    (('XBTUSD', 1), [0.0]),\n",
    "    (('ETHUSD', 0), [0.0]),\n",
    "    (('ETHUSD', 1), [0.0]),\n",
    "  ]\n",
    "\n",
    "  trade_metric = TradeMetric(defaults, [\n",
    "    # ('quantity', lambda x: len(x)),\n",
    "    ('total', lambda trades: sum(map(lambda x: x.volume, trades)))\n",
    "  ], seconds=60, z_normalize=2500)\n",
    "  trade_metric2 = TradeMetric(defaults, [\n",
    "    # ('quantity', lambda x: len(x)),\n",
    "    ('total', lambda trades: sum(map(lambda x: x.volume, trades)))\n",
    "  ], seconds=120, z_normalize=2500)\n",
    "\n",
    "  lipton_levels = 6\n",
    "  hy = HayashiYoshido(140, True)\n",
    "  lipton = Lipton(hy.name, lipton_levels)\n",
    "  return RLStrategy(agent, vwap, episode_length=600,\n",
    "                        instant_metrics=[vwap, liq],\n",
    "                        delta_metrics=[hy],\n",
    "                        time_metrics_trade=[trade_metric, trade_metric2], composite_metrics=[lipton],\n",
    "                        initial_balance=0.0, cancels_enabled=cancels_enabled)"
   ]
  },
  {
   "cell_type": "code",
   "execution_count": 23,
   "metadata": {},
   "outputs": [],
   "source": [
    "def init_simulation(agent: Agent, orderbook_file: str, trade_file: str,\n",
    "                    output_required: Union[bool, Output] = False, delay=5,\n",
    "                    cancels_enabled=True) -> Optional[Output]:\n",
    "\n",
    "  if isinstance(output_required, bool) and output_required:\n",
    "    output = SimulatedOrdersOutput()\n",
    "  elif isinstance(output_required, Output):\n",
    "    output = output_required\n",
    "  else:\n",
    "    output = None\n",
    "\n",
    "  reader = OrderbookReader(orderbook_file, trade_file, nrows=None, is_precomputed=True)\n",
    "\n",
    "  strategy = prepare_rl_strategy(agent, cancels_enabled)\n",
    "  backtest = BacktestOnSample(reader, strategy, output=output, delay=delay, warmup=True, stale_depth=8)\n",
    "  backtest.run()\n",
    "\n",
    "  return backtest.output"
   ]
  },
  {
   "cell_type": "code",
   "execution_count": 24,
   "metadata": {},
   "outputs": [],
   "source": [
    "import matplotlib.pyplot as plt\n",
    "def plot_from_df(idx, info=True, savefig=False, output=None):\n",
    "    import matplotlib.patches as mpatches\n",
    "    \n",
    "    if output is None:\n",
    "        output = outputs[idx]\n",
    "    orders_side1, orders_side2 = list(output.orders.values())\n",
    "    ob_file = res.ob_file.iloc[idx]\n",
    "    fig, axs = make_plot_orderbook_trade(ob_file, 'XBTUSD', \n",
    "                          orders_side1 + orders_side2, \n",
    "                          None,\n",
    "                          orderbook_precomputed=True, savefig=savefig)\n",
    "    \n",
    "    if info:\n",
    "        assert idx < 0 \n",
    "        ob_file, pnl, xbt, usd, price = res.loc[len(res)+idx, ['ob_file', 'nav', 'xbt', 'usd', 'xbt_price']] \n",
    "        patches = [\n",
    "            mpatches.Patch(color='red', label=f'PNL: {pnl:.3f} USD'),\n",
    "            mpatches.Patch(color='green', label=f'Price: {price:.2f} USD'),\n",
    "            mpatches.Patch(color='blue', label=f'XBT: {xbt:.3f}'),\n",
    "            mpatches.Patch(color='yellow', label=f'USD: {usd:.3f}')\n",
    "        ]\n",
    "        \n",
    "        main_legend = plt.legend(loc=1)\n",
    "        plt.legend(handles=patches, loc=2)\n",
    "        plt.gca().add_artist(main_legend)\n",
    "        \n",
    "        plt.title(ob_file.split('/')[-1])\n",
    "    plt.show()"
   ]
  },
  {
   "cell_type": "code",
   "execution_count": 25,
   "metadata": {},
   "outputs": [
    {
     "data": {
      "text/plain": [
       "device(type='cuda')"
      ]
     },
     "execution_count": 25,
     "metadata": {},
     "output_type": "execute_result"
    }
   ],
   "source": [
    "device = torch.device('cuda' if torch.cuda.is_available() else 'cpu')\n",
    "# torch.autograd.set_detect_anomaly(True)\n",
    "# device = torch.device('cpu')\n",
    "\n",
    "device"
   ]
  },
  {
   "cell_type": "code",
   "execution_count": 26,
   "metadata": {},
   "outputs": [],
   "source": [
    "condition = DecisionCondition(150000.0, 3000.0)\n",
    "model: DuelingDQN = DuelingDQN(input_dim=24, output_dim=4)\n",
    "target: DuelingDQN = DuelingDQN(input_dim=24, output_dim=4)\n",
    "\n",
    "model.load_state_dict(torch.load('model-2-2.pth'))\n",
    "model.train()\n",
    "target.eval()\n",
    "target.load_state_dict(model.state_dict())\n",
    "\n",
    "\n",
    "model.to(device)\n",
    "target.to(device)\n",
    "agent = Agent(model, target, condition, batch_size=256) # for some reason, batch_size > 64 makes NANs in loss\n",
    "agent.train()"
   ]
  },
  {
   "cell_type": "markdown",
   "metadata": {},
   "source": [
    "## Training"
   ]
  },
  {
   "cell_type": "code",
   "execution_count": 16,
   "metadata": {},
   "outputs": [],
   "source": [
    "dst_dir = 'notebooks/time-sampled-10min'\n",
    "ob_files = glob.glob(f'{dst_dir}/orderbook_*')\n",
    "tr_files = glob.glob(f'{dst_dir}/trade_*')\n",
    "ob_files, tr_files = map(sorted, [ob_files, tr_files])\n",
    "\n",
    "pairs = list(zip(ob_files, tr_files))\n",
    "outputs: List[SimulatedOrdersOutput] = []"
   ]
  },
  {
   "cell_type": "code",
   "execution_count": 17,
   "metadata": {},
   "outputs": [],
   "source": [
    "total = 1810"
   ]
  },
  {
   "cell_type": "code",
   "execution_count": 18,
   "metadata": {
    "scrolled": true
   },
   "outputs": [
    {
     "data": {
      "application/vnd.jupyter.widget-view+json": {
       "model_id": "3921a585800e4c1bb45927590501a110",
       "version_major": 2,
       "version_minor": 0
      },
      "text/plain": [
       "HBox(children=(FloatProgress(value=0.0, max=1810.0), HTML(value='')))"
      ]
     },
     "metadata": {},
     "output_type": "display_data"
    },
    {
     "name": "stderr",
     "output_type": "stream",
     "text": [
      "/home/user/hft-backtesting/hft/backtesting/strategy.py:179: RuntimeWarning: overflow encountered in double_scalars\n",
      "  self.position[order.symbol] = ((avg_price * (1.0 - ratio) + order.price * ratio), total_volume)\n"
     ]
    },
    {
     "name": "stdout",
     "output_type": "stream",
     "text": [
      "\n"
     ]
    }
   ],
   "source": [
    "agent.train()\n",
    "for idx in notebook.tqdm(range(total)):\n",
    "    output_required = True if total - 20 < idx else False\n",
    "    ob_file, tr_file = random.choice(pairs)\n",
    "    output = init_simulation(agent, ob_file, tr_file, output_required=output_required, delay=1)\n",
    "    agent.episode_files.append((ob_file, tr_file))\n",
    "    outputs.append(output)"
   ]
  },
  {
   "cell_type": "code",
   "execution_count": 42,
   "metadata": {},
   "outputs": [],
   "source": [
    "# res.to_csv('RL-v2-2.csv')\n",
    "# torch.save(target.state_dict(), 'model-2-2.pth')"
   ]
  },
  {
   "cell_type": "code",
   "execution_count": null,
   "metadata": {},
   "outputs": [],
   "source": []
  },
  {
   "cell_type": "code",
   "execution_count": 41,
   "metadata": {},
   "outputs": [
    {
     "data": {
      "text/plain": [
       "DuelingDQN(\n",
       "  (feature_layer): Sequential(\n",
       "    (0): Linear(in_features=24, out_features=256, bias=True)\n",
       "    (1): LayerNorm((256,), eps=1e-05, elementwise_affine=True)\n",
       "    (2): ReLU()\n",
       "    (3): Linear(in_features=256, out_features=256, bias=True)\n",
       "    (4): LayerNorm((256,), eps=1e-05, elementwise_affine=True)\n",
       "    (5): ReLU()\n",
       "  )\n",
       "  (value_stream): Sequential(\n",
       "    (0): Linear(in_features=256, out_features=128, bias=True)\n",
       "    (1): LayerNorm((128,), eps=1e-05, elementwise_affine=True)\n",
       "    (2): ReLU()\n",
       "    (3): Linear(in_features=128, out_features=1, bias=True)\n",
       "  )\n",
       "  (advantage_stream): Sequential(\n",
       "    (0): Linear(in_features=256, out_features=256, bias=True)\n",
       "    (1): LayerNorm((256,), eps=1e-05, elementwise_affine=True)\n",
       "    (2): ReLU()\n",
       "    (3): Linear(in_features=256, out_features=4, bias=True)\n",
       "  )\n",
       ")"
      ]
     },
     "execution_count": 41,
     "metadata": {},
     "output_type": "execute_result"
    }
   ],
   "source": [
    "model"
   ]
  },
  {
   "cell_type": "code",
   "execution_count": 19,
   "metadata": {},
   "outputs": [
    {
     "data": {
      "image/png": "[encoded data removed]",
      "text/plain": [
       "<Figure size 432x288 with 1 Axes>"
      ]
     },
     "metadata": {
      "needs_background": "light"
     },
     "output_type": "display_data"
    }
   ],
   "source": [
    "losses = pd.Series(agent.losses)\n",
    "# losses = losses.clip(0, 0.02)\n",
    "t = len(losses)\n",
    "_mean = losses.rolling(20).mean()\n",
    "\n",
    "plt.title('Loss per observation')\n",
    "plt.plot(np.arange(0, t), np.array(losses))\n",
    "plt.plot(range(t), _mean)\n",
    "plt.show()"
   ]
  },
  {
   "cell_type": "markdown",
   "metadata": {},
   "source": [
    "## Results overview"
   ]
  },
  {
   "cell_type": "code",
   "execution_count": 20,
   "metadata": {
    "scrolled": false
   },
   "outputs": [
    {
     "data": {
      "text/html": [
       "<div>\n",
       "<style scoped>\n",
       "    .dataframe tbody tr th:only-of-type {\n",
       "        vertical-align: middle;\n",
       "    }\n",
       "\n",
       "    .dataframe tbody tr th {\n",
       "        vertical-align: top;\n",
       "    }\n",
       "\n",
       "    .dataframe thead th {\n",
       "        text-align: right;\n",
       "    }\n",
       "</style>\n",
       "<table border=\"1\" class=\"dataframe\">\n",
       "  <thead>\n",
       "    <tr style=\"text-align: right;\">\n",
       "      <th></th>\n",
       "      <th>ob_file</th>\n",
       "      <th>tr_file</th>\n",
       "      <th>usd</th>\n",
       "      <th>xbt</th>\n",
       "      <th>eth</th>\n",
       "      <th>xbt_price</th>\n",
       "      <th>nav</th>\n",
       "    </tr>\n",
       "  </thead>\n",
       "  <tbody>\n",
       "    <tr>\n",
       "      <th>0</th>\n",
       "      <td>notebooks/time-sampled-10min/orderbook_1190.cs...</td>\n",
       "      <td>notebooks/time-sampled-10min/trade_1190.csv.gz</td>\n",
       "      <td>2976.83275</td>\n",
       "      <td>-0.553470</td>\n",
       "      <td>0.0</td>\n",
       "      <td>5215.50</td>\n",
       "      <td>90.209458</td>\n",
       "    </tr>\n",
       "    <tr>\n",
       "      <th>1</th>\n",
       "      <td>notebooks/time-sampled-10min/orderbook_2053.cs...</td>\n",
       "      <td>notebooks/time-sampled-10min/trade_2053.csv.gz</td>\n",
       "      <td>-1200.52225</td>\n",
       "      <td>0.177197</td>\n",
       "      <td>0.0</td>\n",
       "      <td>6726.75</td>\n",
       "      <td>-8.560549</td>\n",
       "    </tr>\n",
       "    <tr>\n",
       "      <th>2</th>\n",
       "      <td>notebooks/time-sampled-10min/orderbook_2002.cs...</td>\n",
       "      <td>notebooks/time-sampled-10min/trade_2002.csv.gz</td>\n",
       "      <td>8991.45750</td>\n",
       "      <td>-1.368314</td>\n",
       "      <td>0.0</td>\n",
       "      <td>6601.75</td>\n",
       "      <td>-41.811194</td>\n",
       "    </tr>\n",
       "    <tr>\n",
       "      <th>3</th>\n",
       "      <td>notebooks/time-sampled-10min/orderbook_1298.cs...</td>\n",
       "      <td>notebooks/time-sampled-10min/trade_1298.csv.gz</td>\n",
       "      <td>-17190.27225</td>\n",
       "      <td>3.058474</td>\n",
       "      <td>0.0</td>\n",
       "      <td>5603.75</td>\n",
       "      <td>-51.351243</td>\n",
       "    </tr>\n",
       "    <tr>\n",
       "      <th>4</th>\n",
       "      <td>notebooks/time-sampled-10min/orderbook_6.csv.gz</td>\n",
       "      <td>notebooks/time-sampled-10min/trade_6.csv.gz</td>\n",
       "      <td>14187.76775</td>\n",
       "      <td>-1.791938</td>\n",
       "      <td>0.0</td>\n",
       "      <td>7924.75</td>\n",
       "      <td>-12.891929</td>\n",
       "    </tr>\n",
       "    <tr>\n",
       "      <th>...</th>\n",
       "      <td>...</td>\n",
       "      <td>...</td>\n",
       "      <td>...</td>\n",
       "      <td>...</td>\n",
       "      <td>...</td>\n",
       "      <td>...</td>\n",
       "      <td>...</td>\n",
       "    </tr>\n",
       "    <tr>\n",
       "      <th>1805</th>\n",
       "      <td>notebooks/time-sampled-10min/orderbook_482.csv.gz</td>\n",
       "      <td>notebooks/time-sampled-10min/trade_482.csv.gz</td>\n",
       "      <td>6542.32325</td>\n",
       "      <td>-1.185672</td>\n",
       "      <td>0.0</td>\n",
       "      <td>5580.75</td>\n",
       "      <td>-74.616168</td>\n",
       "    </tr>\n",
       "    <tr>\n",
       "      <th>1806</th>\n",
       "      <td>notebooks/time-sampled-10min/orderbook_142.csv.gz</td>\n",
       "      <td>notebooks/time-sampled-10min/trade_142.csv.gz</td>\n",
       "      <td>11780.06000</td>\n",
       "      <td>-1.528157</td>\n",
       "      <td>0.0</td>\n",
       "      <td>7709.75</td>\n",
       "      <td>-1.648917</td>\n",
       "    </tr>\n",
       "    <tr>\n",
       "      <th>1807</th>\n",
       "      <td>notebooks/time-sampled-10min/orderbook_2006.cs...</td>\n",
       "      <td>notebooks/time-sampled-10min/trade_2006.csv.gz</td>\n",
       "      <td>4303.24050</td>\n",
       "      <td>-0.653155</td>\n",
       "      <td>0.0</td>\n",
       "      <td>6587.75</td>\n",
       "      <td>0.419761</td>\n",
       "    </tr>\n",
       "    <tr>\n",
       "      <th>1808</th>\n",
       "      <td>notebooks/time-sampled-10min/orderbook_157.csv.gz</td>\n",
       "      <td>notebooks/time-sampled-10min/trade_157.csv.gz</td>\n",
       "      <td>-7540.96550</td>\n",
       "      <td>0.963903</td>\n",
       "      <td>0.0</td>\n",
       "      <td>7817.25</td>\n",
       "      <td>-5.894458</td>\n",
       "    </tr>\n",
       "    <tr>\n",
       "      <th>1809</th>\n",
       "      <td>notebooks/time-sampled-10min/orderbook_1998.cs...</td>\n",
       "      <td>notebooks/time-sampled-10min/trade_1998.csv.gz</td>\n",
       "      <td>19033.25525</td>\n",
       "      <td>-2.889300</td>\n",
       "      <td>0.0</td>\n",
       "      <td>6589.75</td>\n",
       "      <td>-6.507634</td>\n",
       "    </tr>\n",
       "  </tbody>\n",
       "</table>\n",
       "<p>1810 rows × 7 columns</p>\n",
       "</div>"
      ],
      "text/plain": [
       "                                                ob_file  \\\n",
       "0     notebooks/time-sampled-10min/orderbook_1190.cs...   \n",
       "1     notebooks/time-sampled-10min/orderbook_2053.cs...   \n",
       "2     notebooks/time-sampled-10min/orderbook_2002.cs...   \n",
       "3     notebooks/time-sampled-10min/orderbook_1298.cs...   \n",
       "4       notebooks/time-sampled-10min/orderbook_6.csv.gz   \n",
       "...                                                 ...   \n",
       "1805  notebooks/time-sampled-10min/orderbook_482.csv.gz   \n",
       "1806  notebooks/time-sampled-10min/orderbook_142.csv.gz   \n",
       "1807  notebooks/time-sampled-10min/orderbook_2006.cs...   \n",
       "1808  notebooks/time-sampled-10min/orderbook_157.csv.gz   \n",
       "1809  notebooks/time-sampled-10min/orderbook_1998.cs...   \n",
       "\n",
       "                                             tr_file          usd       xbt  \\\n",
       "0     notebooks/time-sampled-10min/trade_1190.csv.gz   2976.83275 -0.553470   \n",
       "1     notebooks/time-sampled-10min/trade_2053.csv.gz  -1200.52225  0.177197   \n",
       "2     notebooks/time-sampled-10min/trade_2002.csv.gz   8991.45750 -1.368314   \n",
       "3     notebooks/time-sampled-10min/trade_1298.csv.gz -17190.27225  3.058474   \n",
       "4        notebooks/time-sampled-10min/trade_6.csv.gz  14187.76775 -1.791938   \n",
       "...                                              ...          ...       ...   \n",
       "1805   notebooks/time-sampled-10min/trade_482.csv.gz   6542.32325 -1.185672   \n",
       "1806   notebooks/time-sampled-10min/trade_142.csv.gz  11780.06000 -1.528157   \n",
       "1807  notebooks/time-sampled-10min/trade_2006.csv.gz   4303.24050 -0.653155   \n",
       "1808   notebooks/time-sampled-10min/trade_157.csv.gz  -7540.96550  0.963903   \n",
       "1809  notebooks/time-sampled-10min/trade_1998.csv.gz  19033.25525 -2.889300   \n",
       "\n",
       "      eth  xbt_price        nav  \n",
       "0     0.0    5215.50  90.209458  \n",
       "1     0.0    6726.75  -8.560549  \n",
       "2     0.0    6601.75 -41.811194  \n",
       "3     0.0    5603.75 -51.351243  \n",
       "4     0.0    7924.75 -12.891929  \n",
       "...   ...        ...        ...  \n",
       "1805  0.0    5580.75 -74.616168  \n",
       "1806  0.0    7709.75  -1.648917  \n",
       "1807  0.0    6587.75   0.419761  \n",
       "1808  0.0    7817.25  -5.894458  \n",
       "1809  0.0    6589.75  -6.507634  \n",
       "\n",
       "[1810 rows x 7 columns]"
      ]
     },
     "execution_count": 20,
     "metadata": {},
     "output_type": "execute_result"
    }
   ],
   "source": [
    "res = agent.episode_results()\n",
    "res"
   ]
  },
  {
   "cell_type": "code",
   "execution_count": 50,
   "metadata": {},
   "outputs": [],
   "source": [
    "# res.to_csv('RL-v2-2.csv')"
   ]
  },
  {
   "cell_type": "code",
   "execution_count": 23,
   "metadata": {
    "scrolled": true
   },
   "outputs": [
    {
     "name": "stderr",
     "output_type": "stream",
     "text": [
      "/home/user/anaconda3/lib/python3.7/site-packages/ipykernel_launcher.py:1: UserWarning: Boolean Series key will be reindexed to match DataFrame index.\n",
      "  \"\"\"Entry point for launching an IPython kernel.\n",
      "/home/user/anaconda3/lib/python3.7/site-packages/ipykernel_launcher.py:2: UserWarning: Boolean Series key will be reindexed to match DataFrame index.\n",
      "  \n"
     ]
    }
   ],
   "source": [
    "positives = res[-100:][res.nav > 0]\n",
    "negatives = res[-100:][res.nav < 0]"
   ]
  },
  {
   "cell_type": "code",
   "execution_count": 24,
   "metadata": {},
   "outputs": [
    {
     "name": "stdout",
     "output_type": "stream",
     "text": [
      "Positives sum: 1069.8740; \n",
      "Negatives sum: -6580.0588; \n",
      "Positives max: 212.6328; \n",
      "Negatives min: -2065.2928\n"
     ]
    }
   ],
   "source": [
    "pos_sum, neg_sum = positives.nav.sum(), negatives.nav.sum()\n",
    "pos_max, neg_min = positives.nav.max(), negatives.nav.min()\n",
    "print(f'Positives sum: {pos_sum:.4f}; '   +\n",
    "      f'\\nNegatives sum: {neg_sum:.4f}; ' +\n",
    "      f'\\nPositives max: {pos_max:.4f}; ' +\n",
    "      f'\\nNegatives min: {neg_min:.4f}')"
   ]
  },
  {
   "cell_type": "code",
   "execution_count": 25,
   "metadata": {
    "scrolled": true
   },
   "outputs": [
    {
     "data": {
      "text/html": [
       "<div>\n",
       "<style scoped>\n",
       "    .dataframe tbody tr th:only-of-type {\n",
       "        vertical-align: middle;\n",
       "    }\n",
       "\n",
       "    .dataframe tbody tr th {\n",
       "        vertical-align: top;\n",
       "    }\n",
       "\n",
       "    .dataframe thead th {\n",
       "        text-align: right;\n",
       "    }\n",
       "</style>\n",
       "<table border=\"1\" class=\"dataframe\">\n",
       "  <thead>\n",
       "    <tr style=\"text-align: right;\">\n",
       "      <th></th>\n",
       "      <th>positive</th>\n",
       "      <th>negative</th>\n",
       "    </tr>\n",
       "  </thead>\n",
       "  <tbody>\n",
       "    <tr>\n",
       "      <th>count</th>\n",
       "      <td>31.000000</td>\n",
       "      <td>69.000000</td>\n",
       "    </tr>\n",
       "    <tr>\n",
       "      <th>mean</th>\n",
       "      <td>34.512064</td>\n",
       "      <td>95.363172</td>\n",
       "    </tr>\n",
       "    <tr>\n",
       "      <th>std</th>\n",
       "      <td>51.808180</td>\n",
       "      <td>271.871223</td>\n",
       "    </tr>\n",
       "    <tr>\n",
       "      <th>min</th>\n",
       "      <td>0.419761</td>\n",
       "      <td>0.118681</td>\n",
       "    </tr>\n",
       "    <tr>\n",
       "      <th>25%</th>\n",
       "      <td>4.439674</td>\n",
       "      <td>6.507634</td>\n",
       "    </tr>\n",
       "    <tr>\n",
       "      <th>50%</th>\n",
       "      <td>11.071803</td>\n",
       "      <td>17.612562</td>\n",
       "    </tr>\n",
       "    <tr>\n",
       "      <th>75%</th>\n",
       "      <td>46.681931</td>\n",
       "      <td>55.874889</td>\n",
       "    </tr>\n",
       "    <tr>\n",
       "      <th>max</th>\n",
       "      <td>212.632838</td>\n",
       "      <td>2065.292758</td>\n",
       "    </tr>\n",
       "  </tbody>\n",
       "</table>\n",
       "</div>"
      ],
      "text/plain": [
       "         positive     negative\n",
       "count   31.000000    69.000000\n",
       "mean    34.512064    95.363172\n",
       "std     51.808180   271.871223\n",
       "min      0.419761     0.118681\n",
       "25%      4.439674     6.507634\n",
       "50%     11.071803    17.612562\n",
       "75%     46.681931    55.874889\n",
       "max    212.632838  2065.292758"
      ]
     },
     "execution_count": 25,
     "metadata": {},
     "output_type": "execute_result"
    }
   ],
   "source": [
    "summary = pd.concat([positives.nav, -negatives.nav], axis=1)\n",
    "summary.columns = ['positive', 'negative']\n",
    "summary.describe()"
   ]
  },
  {
   "cell_type": "code",
   "execution_count": 26,
   "metadata": {},
   "outputs": [
    {
     "data": {
      "image/png": "[encoded data removed]",
      "text/plain": [
       "<Figure size 1152x432 with 1 Axes>"
      ]
     },
     "metadata": {
      "needs_background": "light"
     },
     "output_type": "display_data"
    }
   ],
   "source": [
    "plot_from_df(-1)"
   ]
  },
  {
   "cell_type": "code",
   "execution_count": 27,
   "metadata": {},
   "outputs": [
    {
     "data": {
      "text/plain": [
       "[<matplotlib.lines.Line2D at 0x7fb2ac6a0860>]"
      ]
     },
     "execution_count": 27,
     "metadata": {},
     "output_type": "execute_result"
    },
    {
     "data": {
      "image/png": "[encoded data removed]",
      "text/plain": [
       "<Figure size 432x288 with 1 Axes>"
      ]
     },
     "metadata": {
      "needs_background": "light"
     },
     "output_type": "display_data"
    }
   ],
   "source": [
    "_mean = res.nav.rolling(20).mean()\n",
    "plt.plot(range(0, len(res.nav)), res.nav, c='blue')\n",
    "plt.plot(range(0, len(_mean)), _mean, c='orange')"
   ]
  },
  {
   "cell_type": "markdown",
   "metadata": {},
   "source": [
    "# Results comparison\n",
    "\n",
    "Gatling vs RL Agent"
   ]
  },
  {
   "cell_type": "code",
   "execution_count": 30,
   "metadata": {},
   "outputs": [],
   "source": [
    "dst_dir = 'notebooks/time-sampled-30min'\n",
    "ob_files = glob.glob(f'{dst_dir}/orderbook_*')\n",
    "tr_files = glob.glob(f'{dst_dir}/trade_*')\n",
    "ob_files, tr_files = map(sorted, [ob_files, tr_files])\n",
    "\n",
    "eval_pairs = list(zip(ob_files, tr_files))\n",
    "# outputs: List[SimulatedOrdersOutput] = []"
   ]
  },
  {
   "cell_type": "code",
   "execution_count": 31,
   "metadata": {},
   "outputs": [
    {
     "data": {
      "application/vnd.jupyter.widget-view+json": {
       "model_id": "7d6ff353e9284a4886d8e3976223249b",
       "version_major": 2,
       "version_minor": 0
      },
      "text/plain": [
       "HBox(children=(FloatProgress(value=0.0, max=5.0), HTML(value='')))"
      ]
     },
     "metadata": {},
     "output_type": "display_data"
    },
    {
     "name": "stdout",
     "output_type": "stream",
     "text": [
      "\n"
     ]
    }
   ],
   "source": [
    "agent.eval()\n",
    "agent.reset_state()\n",
    "\n",
    "for i in notebook.tqdm(range(5)):\n",
    "    ob_file, tr_file = random.choice(eval_pairs)\n",
    "    output = init_simulation(agent, ob_file, tr_file, output_required=True, delay=1)\n",
    "    agent.episode_files.append((ob_file, tr_file))\n",
    "    outputs.append(output)"
   ]
  },
  {
   "cell_type": "code",
   "execution_count": 32,
   "metadata": {
    "scrolled": false
   },
   "outputs": [
    {
     "data": {
      "text/html": [
       "<div>\n",
       "<style scoped>\n",
       "    .dataframe tbody tr th:only-of-type {\n",
       "        vertical-align: middle;\n",
       "    }\n",
       "\n",
       "    .dataframe tbody tr th {\n",
       "        vertical-align: top;\n",
       "    }\n",
       "\n",
       "    .dataframe thead th {\n",
       "        text-align: right;\n",
       "    }\n",
       "</style>\n",
       "<table border=\"1\" class=\"dataframe\">\n",
       "  <thead>\n",
       "    <tr style=\"text-align: right;\">\n",
       "      <th></th>\n",
       "      <th>ob_file</th>\n",
       "      <th>tr_file</th>\n",
       "      <th>usd</th>\n",
       "      <th>xbt</th>\n",
       "      <th>eth</th>\n",
       "      <th>xbt_price</th>\n",
       "      <th>nav</th>\n",
       "    </tr>\n",
       "  </thead>\n",
       "  <tbody>\n",
       "    <tr>\n",
       "      <th>0</th>\n",
       "      <td>notebooks/time-sampled-10min/orderbook_1190.cs...</td>\n",
       "      <td>notebooks/time-sampled-10min/trade_1190.csv.gz</td>\n",
       "      <td>2976.83275</td>\n",
       "      <td>-0.553470</td>\n",
       "      <td>0.0</td>\n",
       "      <td>5215.50</td>\n",
       "      <td>90.209458</td>\n",
       "    </tr>\n",
       "    <tr>\n",
       "      <th>1</th>\n",
       "      <td>notebooks/time-sampled-10min/orderbook_2053.cs...</td>\n",
       "      <td>notebooks/time-sampled-10min/trade_2053.csv.gz</td>\n",
       "      <td>-1200.52225</td>\n",
       "      <td>0.177197</td>\n",
       "      <td>0.0</td>\n",
       "      <td>6726.75</td>\n",
       "      <td>-8.560549</td>\n",
       "    </tr>\n",
       "    <tr>\n",
       "      <th>2</th>\n",
       "      <td>notebooks/time-sampled-10min/orderbook_2002.cs...</td>\n",
       "      <td>notebooks/time-sampled-10min/trade_2002.csv.gz</td>\n",
       "      <td>8991.45750</td>\n",
       "      <td>-1.368314</td>\n",
       "      <td>0.0</td>\n",
       "      <td>6601.75</td>\n",
       "      <td>-41.811194</td>\n",
       "    </tr>\n",
       "    <tr>\n",
       "      <th>3</th>\n",
       "      <td>notebooks/time-sampled-10min/orderbook_1298.cs...</td>\n",
       "      <td>notebooks/time-sampled-10min/trade_1298.csv.gz</td>\n",
       "      <td>-17190.27225</td>\n",
       "      <td>3.058474</td>\n",
       "      <td>0.0</td>\n",
       "      <td>5603.75</td>\n",
       "      <td>-51.351243</td>\n",
       "    </tr>\n",
       "    <tr>\n",
       "      <th>4</th>\n",
       "      <td>notebooks/time-sampled-10min/orderbook_6.csv.gz</td>\n",
       "      <td>notebooks/time-sampled-10min/trade_6.csv.gz</td>\n",
       "      <td>14187.76775</td>\n",
       "      <td>-1.791938</td>\n",
       "      <td>0.0</td>\n",
       "      <td>7924.75</td>\n",
       "      <td>-12.891929</td>\n",
       "    </tr>\n",
       "    <tr>\n",
       "      <th>...</th>\n",
       "      <td>...</td>\n",
       "      <td>...</td>\n",
       "      <td>...</td>\n",
       "      <td>...</td>\n",
       "      <td>...</td>\n",
       "      <td>...</td>\n",
       "      <td>...</td>\n",
       "    </tr>\n",
       "    <tr>\n",
       "      <th>1810</th>\n",
       "      <td>notebooks/time-sampled-30min/orderbook_620.csv.gz</td>\n",
       "      <td>notebooks/time-sampled-30min/trade_620.csv.gz</td>\n",
       "      <td>485.13725</td>\n",
       "      <td>-0.075383</td>\n",
       "      <td>0.0</td>\n",
       "      <td>6293.75</td>\n",
       "      <td>10.693895</td>\n",
       "    </tr>\n",
       "    <tr>\n",
       "      <th>1811</th>\n",
       "      <td>notebooks/time-sampled-30min/orderbook_521.csv.gz</td>\n",
       "      <td>notebooks/time-sampled-30min/trade_521.csv.gz</td>\n",
       "      <td>11738.46700</td>\n",
       "      <td>-1.764620</td>\n",
       "      <td>0.0</td>\n",
       "      <td>6635.25</td>\n",
       "      <td>29.769624</td>\n",
       "    </tr>\n",
       "    <tr>\n",
       "      <th>1812</th>\n",
       "      <td>notebooks/time-sampled-30min/orderbook_144.csv.gz</td>\n",
       "      <td>notebooks/time-sampled-30min/trade_144.csv.gz</td>\n",
       "      <td>197795.46400</td>\n",
       "      <td>-36.430900</td>\n",
       "      <td>0.0</td>\n",
       "      <td>5604.25</td>\n",
       "      <td>-6372.405168</td>\n",
       "    </tr>\n",
       "    <tr>\n",
       "      <th>1813</th>\n",
       "      <td>notebooks/time-sampled-30min/orderbook_30.csv.gz</td>\n",
       "      <td>notebooks/time-sampled-30min/trade_30.csv.gz</td>\n",
       "      <td>-51410.31050</td>\n",
       "      <td>6.556262</td>\n",
       "      <td>0.0</td>\n",
       "      <td>7810.25</td>\n",
       "      <td>-204.265132</td>\n",
       "    </tr>\n",
       "    <tr>\n",
       "      <th>1814</th>\n",
       "      <td>notebooks/time-sampled-30min/orderbook_128.csv.gz</td>\n",
       "      <td>notebooks/time-sampled-30min/trade_128.csv.gz</td>\n",
       "      <td>15526.90100</td>\n",
       "      <td>-3.899260</td>\n",
       "      <td>0.0</td>\n",
       "      <td>3613.25</td>\n",
       "      <td>1437.898508</td>\n",
       "    </tr>\n",
       "  </tbody>\n",
       "</table>\n",
       "<p>1815 rows × 7 columns</p>\n",
       "</div>"
      ],
      "text/plain": [
       "                                                ob_file  \\\n",
       "0     notebooks/time-sampled-10min/orderbook_1190.cs...   \n",
       "1     notebooks/time-sampled-10min/orderbook_2053.cs...   \n",
       "2     notebooks/time-sampled-10min/orderbook_2002.cs...   \n",
       "3     notebooks/time-sampled-10min/orderbook_1298.cs...   \n",
       "4       notebooks/time-sampled-10min/orderbook_6.csv.gz   \n",
       "...                                                 ...   \n",
       "1810  notebooks/time-sampled-30min/orderbook_620.csv.gz   \n",
       "1811  notebooks/time-sampled-30min/orderbook_521.csv.gz   \n",
       "1812  notebooks/time-sampled-30min/orderbook_144.csv.gz   \n",
       "1813   notebooks/time-sampled-30min/orderbook_30.csv.gz   \n",
       "1814  notebooks/time-sampled-30min/orderbook_128.csv.gz   \n",
       "\n",
       "                                             tr_file           usd        xbt  \\\n",
       "0     notebooks/time-sampled-10min/trade_1190.csv.gz    2976.83275  -0.553470   \n",
       "1     notebooks/time-sampled-10min/trade_2053.csv.gz   -1200.52225   0.177197   \n",
       "2     notebooks/time-sampled-10min/trade_2002.csv.gz    8991.45750  -1.368314   \n",
       "3     notebooks/time-sampled-10min/trade_1298.csv.gz  -17190.27225   3.058474   \n",
       "4        notebooks/time-sampled-10min/trade_6.csv.gz   14187.76775  -1.791938   \n",
       "...                                              ...           ...        ...   \n",
       "1810   notebooks/time-sampled-30min/trade_620.csv.gz     485.13725  -0.075383   \n",
       "1811   notebooks/time-sampled-30min/trade_521.csv.gz   11738.46700  -1.764620   \n",
       "1812   notebooks/time-sampled-30min/trade_144.csv.gz  197795.46400 -36.430900   \n",
       "1813    notebooks/time-sampled-30min/trade_30.csv.gz  -51410.31050   6.556262   \n",
       "1814   notebooks/time-sampled-30min/trade_128.csv.gz   15526.90100  -3.899260   \n",
       "\n",
       "      eth  xbt_price          nav  \n",
       "0     0.0    5215.50    90.209458  \n",
       "1     0.0    6726.75    -8.560549  \n",
       "2     0.0    6601.75   -41.811194  \n",
       "3     0.0    5603.75   -51.351243  \n",
       "4     0.0    7924.75   -12.891929  \n",
       "...   ...        ...          ...  \n",
       "1810  0.0    6293.75    10.693895  \n",
       "1811  0.0    6635.25    29.769624  \n",
       "1812  0.0    5604.25 -6372.405168  \n",
       "1813  0.0    7810.25  -204.265132  \n",
       "1814  0.0    3613.25  1437.898508  \n",
       "\n",
       "[1815 rows x 7 columns]"
      ]
     },
     "execution_count": 32,
     "metadata": {},
     "output_type": "execute_result"
    }
   ],
   "source": [
    "res = agent.episode_results()\n",
    "res"
   ]
  },
  {
   "cell_type": "code",
   "execution_count": 37,
   "metadata": {},
   "outputs": [
    {
     "data": {
      "image/png": "[encoded data removed]",
      "text/plain": [
       "<Figure size 1152x432 with 1 Axes>"
      ]
     },
     "metadata": {
      "needs_background": "light"
     },
     "output_type": "display_data"
    }
   ],
   "source": [
    "plot_from_df(-1)"
   ]
  },
  {
   "cell_type": "markdown",
   "metadata": {},
   "source": [
    "## Compare with Gatling"
   ]
  },
  {
   "cell_type": "code",
   "execution_count": 27,
   "metadata": {},
   "outputs": [],
   "source": [
    "# def compare_strategies(s1: RLStrategy, s2, orderbook_file: str, trade_file: str,\n",
    "#                        delay=1) -> Tuple:\n",
    "\n",
    "#   r1 = TimeLimitedReader(orderbook_file, limit_time='100 min', trades_file=trade_file, nrows=500000)\n",
    "#   r2 = TimeLimitedReader(orderbook_file, limit_time='100 min', trades_file=trade_file, nrows=500000)\n",
    "\n",
    "#   o1 = SimulatedOrdersOutput()\n",
    "#   o2 = SimulatedOrdersOutput()\n",
    "\n",
    "#   s1.balance_listener = o1.balances.append\n",
    "#   s2.balance_listener = o2.balances.append\n",
    "\n",
    "#   b1 = Backtest(r1, s1, o1, delay=delay, warmup=True, stale_depth=8)\n",
    "#   b2 = Backtest(r2, s2, o2, delay=delay, warmup=False, stale_depth=2)\n",
    "\n",
    "#   b1.run()\n",
    "#   b2.run()\n",
    "\n",
    "#   return o1, o2"
   ]
  },
  {
   "cell_type": "code",
   "execution_count": 36,
   "metadata": {},
   "outputs": [],
   "source": [
    "from hft.strategies.gatling import GatlingMM\n",
    "from hft.backtesting.readers import OrderbookReader, TimeLimitedReader\n",
    "from hft.backtesting.backtest import Backtest"
   ]
  },
  {
   "cell_type": "code",
   "execution_count": 37,
   "metadata": {},
   "outputs": [],
   "source": [
    "rl = prepare_rl_strategy(agent)\n",
    "gatling = GatlingMM(1000, initial_balance=0.0)\n",
    "agent.eval()\n",
    "ob_file = 'notebooks/may-data/orderbook.CSV.gz'\n",
    "tr_file = 'notebooks/may-data/trades.CSV.gz'"
   ]
  },
  {
   "cell_type": "code",
   "execution_count": 38,
   "metadata": {},
   "outputs": [
    {
     "name": "stderr",
     "output_type": "stream",
     "text": [
      "/home/user/hft-backtesting/hft/backtesting/strategy.py:163: RuntimeWarning: divide by zero encountered in double_scalars\n",
      "  ratio = converted_volume / total_volume\n",
      "/home/user/hft-backtesting/hft/backtesting/strategy.py:164: RuntimeWarning: invalid value encountered in double_scalars\n",
      "  self.position[order.symbol] = ((avg_price * (1.0 - ratio) + order.price * ratio), total_volume)\n"
     ]
    }
   ],
   "source": [
    "o1, o2 = compare_strategies(rl, gatling, ob_file, tr_file)"
   ]
  },
  {
   "cell_type": "code",
   "execution_count": 39,
   "metadata": {},
   "outputs": [],
   "source": [
    "def balance_to_df(states):\n",
    "    states = pd.DataFrame(states, index=None, columns=None).loc[1:]\n",
    "    states.columns = ['usd', 'xbt', 'xbt_price', 'ts', 'avprice', 'pos']\n",
    "    states['nav'] = states.usd + states.xbt * states.xbt_price\n",
    "    states['upnl'] = (1. / states.avprice - 1. / states.xbt_price) * states.pos\n",
    "    return states"
   ]
  },
  {
   "cell_type": "code",
   "execution_count": 40,
   "metadata": {},
   "outputs": [],
   "source": [
    "df1 = balance_to_df(o1.balances)\n",
    "df2 = balance_to_df(o2.balances)"
   ]
  },
  {
   "cell_type": "code",
   "execution_count": null,
   "metadata": {},
   "outputs": [],
   "source": []
  },
  {
   "cell_type": "code",
   "execution_count": 41,
   "metadata": {},
   "outputs": [
    {
     "data": {
      "image/png": "[encoded data removed]",
      "text/plain": [
       "<Figure size 432x288 with 1 Axes>"
      ]
     },
     "metadata": {
      "needs_background": "light"
     },
     "output_type": "display_data"
    }
   ],
   "source": [
    "plt.plot(df2.ts, df2.nav)\n",
    "plt.title('Gatling NAV')\n",
    "plt.xlabel('Time')\n",
    "plt.ylabel('USD')\n",
    "plt.show()"
   ]
  },
  {
   "cell_type": "code",
   "execution_count": 44,
   "metadata": {},
   "outputs": [
    {
     "data": {
      "image/png": "[encoded data removed]",
      "text/plain": [
       "<Figure size 432x288 with 1 Axes>"
      ]
     },
     "metadata": {
      "needs_background": "light"
     },
     "output_type": "display_data"
    }
   ],
   "source": [
    "plt.plot(df2.ts, df2.xbt)\n",
    "plt.title('Gatling XBT position')\n",
    "plt.xlabel('Time')\n",
    "plt.ylabel('Position (XBT)')\n",
    "plt.show()"
   ]
  },
  {
   "cell_type": "code",
   "execution_count": 42,
   "metadata": {},
   "outputs": [
    {
     "data": {
      "image/png": "[encoded data removed]",
      "text/plain": [
       "<Figure size 432x288 with 1 Axes>"
      ]
     },
     "metadata": {
      "needs_background": "light"
     },
     "output_type": "display_data"
    }
   ],
   "source": [
    "plt.plot(df1.ts, df1.nav)\n",
    "plt.title('Agent NAV')\n",
    "plt.xlabel('Time')\n",
    "plt.ylabel('USD')\n",
    "plt.show()"
   ]
  },
  {
   "cell_type": "code",
   "execution_count": 43,
   "metadata": {},
   "outputs": [
    {
     "data": {
      "image/png": "[encoded data removed]",
      "text/plain": [
       "<Figure size 432x288 with 1 Axes>"
      ]
     },
     "metadata": {
      "needs_background": "light"
     },
     "output_type": "display_data"
    }
   ],
   "source": [
    "plt.plot(df1.ts, df1.xbt)\n",
    "plt.title('Agent XBT position')\n",
    "plt.xlabel('Time')\n",
    "plt.ylabel('Position (XBT)')\n",
    "plt.show()"
   ]
  },
  {
   "cell_type": "code",
   "execution_count": null,
   "metadata": {},
   "outputs": [],
   "source": []
  }
 ],
 "metadata": {
  "kernelspec": {
   "display_name": "Python 3",
   "language": "python",
   "name": "python3"
  },
  "language_info": {
   "codemirror_mode": {
    "name": "ipython",
    "version": 3
   },
   "file_extension": ".py",
   "mimetype": "text/x-python",
   "name": "python",
   "nbconvert_exporter": "python",
   "pygments_lexer": "ipython3",
   "version": "3.7.3"
  }
 },
 "nbformat": 4,
 "nbformat_minor": 2
}
