{
 "cells": [
  {
   "cell_type": "code",
   "execution_count": 1,
   "metadata": {},
   "outputs": [
    {
     "name": "stdout",
     "output_type": "stream",
     "text": [
      "C:\\cygwin64\\home\\evger\\thesis\n"
     ]
    }
   ],
   "source": [
    "%cd .."
   ]
  },
  {
   "cell_type": "code",
   "execution_count": 14,
   "metadata": {},
   "outputs": [],
   "source": [
    "import glob\n",
    "import os\n",
    "import datetime\n",
    "import random\n",
    "\n",
    "from collections import deque, namedtuple, defaultdict\n",
    "from typing import Union, List, Dict, Tuple, NamedTuple, Deque, Optional\n",
    "\n",
    "import pandas as pd\n",
    "import numpy as np"
   ]
  },
  {
   "cell_type": "code",
   "execution_count": 12,
   "metadata": {},
   "outputs": [],
   "source": [
    "from hft.utils import logger\n",
    "logger.to_file = True\n",
    "logger.fmt_string = \"%(message)s\"\n",
    "\n",
    "from hft.backtesting.backtest import BacktestOnSample\n",
    "from hft.backtesting.data import OrderStatus, OrderRequest\n",
    "from hft.backtesting.readers import OrderbookReader\n",
    "from hft.backtesting.strategy import Strategy\n",
    "from hft.units.metrics.composite import Lipton\n",
    "from hft.units.metrics.instant import VWAP_volume, LiquiditySpectrum, HayashiYoshido\n",
    "from hft.units.metrics.time import TradeMetric\n",
    "from hft.utils.data import Trade, OrderBook\n",
    "from hft.backtesting.output import make_plot_orderbook_trade, Output, SimulatedOrdersOutput"
   ]
  },
  {
   "cell_type": "markdown",
   "metadata": {},
   "source": [
    "## Dueling DQN \n",
    "\n",
    "Dueling DQN implementation with target network implementation on pytorch.  "
   ]
  },
  {
   "cell_type": "code",
   "execution_count": 4,
   "metadata": {
    "scrolled": true
   },
   "outputs": [],
   "source": [
    "import torch\n",
    "from torch import nn\n",
    "\n",
    "device = torch.device('cuda' if torch.cuda.is_available() else 'cpu')\n",
    "\n",
    "class DuelingDQN(nn.Module):\n",
    "  def __init__(self, input_dim: int, output_dim: int):\n",
    "    super().__init__()\n",
    "    self.input_dim: int = input_dim\n",
    "    self.output_dim: int = output_dim\n",
    "\n",
    "    self.feature_layer = nn.Sequential(\n",
    "      nn.Linear(input_dim, 128),\n",
    "      nn.LayerNorm(128),\n",
    "      nn.ReLU(),\n",
    "      nn.Linear(128, 128),\n",
    "      nn.LayerNorm(128),\n",
    "      nn.ReLU()\n",
    "    )\n",
    "\n",
    "    self.value_stream = nn.Sequential(\n",
    "      nn.Linear(128, 128),\n",
    "      nn.LayerNorm(128),\n",
    "      nn.ReLU(),\n",
    "      nn.Linear(128, 1)\n",
    "    )\n",
    "\n",
    "    self.advantage_stream = nn.Sequential(\n",
    "      nn.Linear(128, 128),\n",
    "      nn.LayerNorm(128),\n",
    "      nn.ReLU(),\n",
    "      nn.Linear(128, self.output_dim)\n",
    "    )\n",
    "\n",
    "  def forward(self, x):\n",
    "    x = self.feature_layer(x)\n",
    "    value = self.value_stream(x)\n",
    "    adv = self.advantage_stream(x)\n",
    "    qvals = value + (adv - adv.mean())\n",
    "    return value, adv, qvals"
   ]
  },
  {
   "cell_type": "markdown",
   "metadata": {},
   "source": [
    "## Decision condition\n",
    "\n",
    "Class defines moments when model will make actions.  \n",
    "Model's reaction on __each__ snapshot update would be incredibly expensive, thus it reacts _volume-based_.  \n",
    "\n",
    "## Agent\n",
    "\n",
    "Class stores inner operation for RL:\n",
    "\n",
    "- Stores _replay buffer_  \n",
    "- Generates actions via model or random  \n",
    "- Evaluates rewards and updates models  "
   ]
  },
  {
   "cell_type": "code",
   "execution_count": 8,
   "metadata": {},
   "outputs": [],
   "source": [
    "State = namedtuple('State', 'prev_obs prev_ps action obs ps meta done')\n",
    "\n",
    "class DecisionCondition:\n",
    "  def __init__(self, volume: float):\n",
    "    self.volume_condition: float = volume\n",
    "    self.reset()\n",
    "\n",
    "  def __call__(self, is_trade: bool, event: Union[Trade, OrderBook]):\n",
    "    if is_trade and event.symbol == 'XBTUSD':\n",
    "      self.volume += event.volume\n",
    "      if self.volume > self.volume_condition:\n",
    "        self.volume %= self.volume_condition\n",
    "        return True\n",
    "    return False\n",
    "\n",
    "  def reset(self):\n",
    "    self.volume = 0.0\n",
    "\n",
    "class Agent:\n",
    "  def __init__(self, model: DuelingDQN, target: DuelingDQN,\n",
    "               condition: DecisionCondition,\n",
    "               gamma = 0.99, lr=1e-3,\n",
    "               update_each:int=4,\n",
    "               buffer_size:int=30000, batch_size=1024):\n",
    "    self._replay_buffer: Deque[State] = deque(maxlen=buffer_size)\n",
    "    self._batch_size: int = batch_size\n",
    "    self.condition: DecisionCondition = condition\n",
    "    self._model : DuelingDQN = model\n",
    "    self._target: DuelingDQN = target\n",
    "    self.end_episode_states: List = []\n",
    "    self.episode_files: List[Tuple[str, str]] = []\n",
    "\n",
    "    self.EPS_START = 0.9\n",
    "    self.EPS_END = 0.1\n",
    "    self.EPS_DECAY = 400\n",
    "\n",
    "\n",
    "    self.gamma = gamma\n",
    "    self.MSE_loss = torch.nn.MSELoss()\n",
    "    self.optimizer = torch.optim.RMSprop(self._model.parameters(), lr=lr)\n",
    "\n",
    "    self._update_each = update_each\n",
    "    self.episode_counter = 0\n",
    "    self.reset_state()\n",
    "\n",
    "  def episode_results(self) -> pd.DataFrame:\n",
    "    fnames, states = agent.episode_files, agent.end_episode_states\n",
    "    states = [t[0].tolist() + [t[1]] for t in states]\n",
    "    episodes = [list(t[0]) + t[1] for t in zip(fnames, states)]\n",
    "    res = pd.DataFrame(episodes, columns=['ob_file', 'tr_file', 'usd', 'xbt', 'eth', 'xbt_price'])\n",
    "    return res\n",
    "\n",
    "  def reset_state(self):\n",
    "    self.obs = None\n",
    "    self.action = None\n",
    "    self.ps = None\n",
    "    self.episode_counter += 1\n",
    "    self.condition.reset()\n",
    "\n",
    "    # reload weights\n",
    "    if (self.episode_counter + 1) % self._update_each == 0:\n",
    "      state = self._model.state_dict()\n",
    "      self._target.load_state_dict(state)\n",
    "      torch.save(state, 'model.pth')\n",
    "\n",
    "  def get_reward(self, prev_v: torch.Tensor, v: torch.Tensor,\n",
    "                 prev_ps: torch.Tensor, ps: torch.Tensor,\n",
    "                 tau: torch.Tensor, a=0.35, b=1./1000):\n",
    "    vv = a * (v - prev_v)\n",
    "    vv.squeeze_(1)\n",
    "\n",
    "    state_delta = torch.abs(prev_ps) - torch.abs(ps) # todo: updated here, react negatively on accumulation of assets\n",
    "    pos = (torch.exp(b*tau) * state_delta) # todo: updated here, instead of sign, use delta\n",
    "\n",
    "    # a(V_t - V_{t-1}) + e^{b*tau} * sgn(|i_t| - |i_{t-1}|)\n",
    "    return vv + pos\n",
    "\n",
    "  def get_terminal_reward(self, terminal_ps, terminal_prices, alpha=3.0):\n",
    "    return alpha - torch.exp(-(terminal_ps[:, 0] / terminal_prices - terminal_ps[:, 1])) # 0: usd, 1: xbtusd, 2: ethusd\n",
    "\n",
    "  def store_episode(self, new_obs, new_ps, meta, done, action):\n",
    "    if self.is_initialized():\n",
    "      self._replay_buffer.append((self.obs, self.ps, self.action, new_obs, new_ps, meta, done))\n",
    "    self.obs = new_obs\n",
    "    self.ps = new_ps\n",
    "    self.action = action\n",
    "\n",
    "  def is_initialized(self):\n",
    "    return self.obs is not None  # happens after reset, first obs is missing\n",
    "\n",
    "  def get_action(self, obs):\n",
    "    eps = self.EPS_END + (self.EPS_START - self.EPS_END) * np.exp(-1. * self.episode_counter / self.EPS_DECAY)\n",
    "    if np.random.uniform(0.0, 1.0) < eps:\n",
    "      return random.randint(0, self._model.output_dim - 1)\n",
    "    with torch.no_grad():\n",
    "      _, _, qvals = self._target(torch.tensor(obs, dtype=torch.float).unsqueeze(0))\n",
    "      action = torch.argmax(qvals).cpu().detach().item()\n",
    "      return action\n",
    "\n",
    "  def update(self):\n",
    "    if len(self._replay_buffer) > self._batch_size:\n",
    "      items = random.sample(self._replay_buffer, self._batch_size)\n",
    "      prev_obs, prev_ps, action, obs, ps, meta, done = zip(*items)\n",
    "      prev_obs, prev_ps, obs, ps, meta = map(lambda x: torch.tensor(x, dtype=torch.float), [prev_obs, prev_ps, obs, ps, meta])\n",
    "      done = torch.tensor(done, dtype=torch.bool)\n",
    "      action = torch.tensor(action, dtype=torch.long).unsqueeze(1)\n",
    "\n",
    "      v, _, qvalues = self._model(prev_obs)\n",
    "      next_v, _, next_qvalues = self._target(obs)\n",
    "\n",
    "      rewards = torch.empty_like(done, dtype=torch.float)\n",
    "      rewards[done] = self.get_terminal_reward(ps[done], meta[done][:, 0])\n",
    "      rewards[~done] = self.get_reward(v[~done], next_v[~done], prev_ps[~done][:, 1], ps[~done][:, 1], meta[~done][:, 1])\n",
    "      rewards.clamp_(-1., 1.) # reward clipping\n",
    "\n",
    "\n",
    "      qvalues = qvalues.gather(1, action).squeeze(1)\n",
    "      next_qvalues = next_qvalues.max(1)[0]\n",
    "      expected_q = rewards + self.gamma * next_qvalues\n",
    "\n",
    "      loss = self.MSE_loss(qvalues, expected_q)  # or hubert loss\n",
    "\n",
    "      self.optimizer.zero_grad()\n",
    "      loss.backward()\n",
    "      for param in self._model.parameters():\n",
    "        param.grad.data.clamp_(-1., 1.) # gradient clipping\n",
    "      self.optimizer.step()"
   ]
  },
  {
   "cell_type": "markdown",
   "metadata": {},
   "source": [
    "## RL Strategy\n",
    "\n",
    "Class wrapper for RL operations: \n",
    "\n",
    "- Provides observations, portfolio states\n",
    "- Transforms action space into orders\n",
    "- Communicates with backtest"
   ]
  },
  {
   "cell_type": "code",
   "execution_count": 9,
   "metadata": {},
   "outputs": [],
   "source": [
    "class RLStrategy(Strategy):\n",
    "  def __init__(self, agent: Agent, simulation_end: datetime.datetime, **kwags):\n",
    "    super().__init__(**kwags)\n",
    "    self.agent: Agent = agent\n",
    "    self._simulation_end = simulation_end\n",
    "    self.action_space: Dict[int, Tuple[int, int]] = {\n",
    "      0: (0, 0),\n",
    "      1: (1, 0),\n",
    "      2: (2, 0),\n",
    "      3: (0, 1),\n",
    "      4: (1, 1),\n",
    "      5: (1, 2),\n",
    "      6: (2, 0),\n",
    "      7: (2, 1),\n",
    "      8: (2, 2)\n",
    "    }\n",
    "\n",
    "  def return_unfinished(self, statuses: List[OrderStatus], memory: Dict[str, Union[Trade, OrderBook]]):\n",
    "    obs, ps, prices = self.get_observation(memory)\n",
    "    meta = (prices, 0.0)\n",
    "    self.agent.store_episode(obs, ps, meta, True, None)\n",
    "    self.agent.end_episode_states.append((ps, meta[0])) # end state and prices\n",
    "    self.agent.reset_state()\n",
    "\n",
    "    super().return_unfinished(statuses, memory)\n",
    "\n",
    "  def get_observation(self, memory):\n",
    "    items = list(map(lambda name: self.metrics_map[name].to_numpy(), names + time_names))\n",
    "    items = [t.flatten() for t in items]\n",
    "\n",
    "    prices = self.get_prices(memory)\n",
    "    ps = self.get_state()\n",
    "    state = np.array([ps[0] / prices, ps[1]])\n",
    "\n",
    "    items += [state]\n",
    "    items = np.concatenate(items, axis=None)\n",
    "    return items, ps, prices\n",
    "\n",
    "  def get_prices(self, memory) -> float: # todo: refactor and use vwap\n",
    "    xbt: OrderBook = memory[('orderbook', 'XBTUSD')]\n",
    "    xbt_midprice = (xbt.ask_prices[0] + xbt.bid_prices[0]) / 2\n",
    "\n",
    "    # eth: OrderBook = memory[('orderbook', 'ETHUSD')]\n",
    "    # eth_midprice = (eth.ask_prices[0] + eth.bid_prices[0]) / 2\n",
    "\n",
    "    return xbt_midprice\n",
    "\n",
    "  def get_state(self) -> np.array:\n",
    "    return np.array(list(self.balance.values()))\n",
    "\n",
    "  def get_timeleft(self, ts: datetime.datetime) -> float:\n",
    "    return (self._simulation_end - ts).total_seconds()\n",
    "\n",
    "  def action_to_order(self, action: int, memory, ts, quantity: int) -> List[OrderRequest]: # value from 0 to 8\n",
    "    offset_bid, offset_ask = self.action_space[action]\n",
    "\n",
    "    offset_bid *= 0.5 # price step is .5 dollars\n",
    "    offset_ask *= 0.5\n",
    "\n",
    "    ob: OrderBook = memory[('orderbook', 'XBTUSD')]\n",
    "\n",
    "    return [OrderRequest.create_bid(ob.bid_prices[0] - offset_bid, quantity, 'XBTUSD', ts),\n",
    "            OrderRequest.create_ask(ob.ask_prices[0] + offset_ask, quantity, 'XBTUSD', ts)]\n",
    "\n",
    "  def define_orders(self, row: Union[Trade, OrderBook],\n",
    "                    statuses: List[OrderStatus],\n",
    "                    memory: Dict[str, Union[Trade, OrderBook]],\n",
    "                    is_trade: bool) -> List[OrderRequest]:\n",
    "    if self.agent.condition(is_trade, row):\n",
    "      obs, ps, prices = self.get_observation(memory)\n",
    "      action = self.agent.get_action(obs)\n",
    "      meta = (prices, self.get_timeleft(row.timestamp))\n",
    "\n",
    "      self.agent.store_episode(obs, ps, meta, False, action)\n",
    "      self.agent.update()\n",
    "\n",
    "      orders = self.action_to_order(action, memory, row.timestamp, 1000)\n",
    "    else:\n",
    "      orders = []\n",
    "    return orders"
   ]
  },
  {
   "cell_type": "markdown",
   "metadata": {},
   "source": [
    "## Training loop"
   ]
  },
  {
   "cell_type": "code",
   "execution_count": 10,
   "metadata": {},
   "outputs": [],
   "source": [
    "# matrices: [2,3,2], [2,3,2], [2, 2], [2]\n",
    "names = ['vwap', 'liquidity-spectrum', 'hayashi-yoshido', 'lipton']\n",
    "# [2, 2], [2, 2]\n",
    "time_names = ['trade-metric-45', 'trade-metric-80']"
   ]
  },
  {
   "cell_type": "code",
   "execution_count": 23,
   "metadata": {},
   "outputs": [],
   "source": [
    "def init_simulation(agent: Agent, orderbook_file: str, trade_file: str,\n",
    "                    output_required: Union[bool, Output] = False) -> Optional[Output]:\n",
    "\n",
    "  if isinstance(output_required, bool) and output_required:\n",
    "    output = SimulatedOrdersOutput()\n",
    "  elif isinstance(output_required, Output):\n",
    "    output = output_required\n",
    "  else:\n",
    "    output = None\n",
    "\n",
    "  vwap = VWAP_volume([int(5e5), int(1e6)], name='vwap', z_normalize=3000)\n",
    "  liq = LiquiditySpectrum(z_normalize=3000)\n",
    "\n",
    "  defaults = [\n",
    "    (('XBTUSD', 0), [0.0]),\n",
    "    (('XBTUSD', 1), [0.0]),\n",
    "    (('ETHUSD', 0), [0.0]),\n",
    "    (('ETHUSD', 1), [0.0]),\n",
    "  ]\n",
    "\n",
    "  trade_metric = TradeMetric(defaults, [\n",
    "    # ('quantity', lambda x: len(x)),\n",
    "    ('total', lambda trades: np.log(sum(map(lambda x: x.volume, trades))))\n",
    "  ], seconds=45) # todo: add z-normalize for time-metrics\n",
    "  trade_metric2 = TradeMetric(defaults, [\n",
    "    # ('quantity', lambda x: len(x)),\n",
    "    ('total', lambda trades: np.log(sum(map(lambda x: x.volume, trades))))\n",
    "  ], seconds=80)\n",
    "\n",
    "  hy = HayashiYoshido(seconds=90)\n",
    "  lipton = Lipton(hy.name)\n",
    "\n",
    "  # todo: refactor in backtesting auto-cancel queries with prices worse than top 3 levels\n",
    "  # todo: update reader to work with only `xbtusd`\n",
    "  reader = OrderbookReader(orderbook_file, trade_file, nrows=None, is_precomputed=True)\n",
    "  end_ts = reader.get_ending_moment()\n",
    "\n",
    "  strategy = RLStrategy(agent, simulation_end=end_ts, instant_metrics=[vwap, liq], delta_metrics=[hy],\n",
    "                        time_metrics_trade=[trade_metric, trade_metric2], composite_metrics=[lipton], initial_balance=0.0)\n",
    "  backtest = BacktestOnSample(reader, strategy, output=output, delay=300, warmup=True, stale_depth=5)\n",
    "  backtest.run()\n",
    "\n",
    "  return backtest.output\n"
   ]
  },
  {
   "cell_type": "code",
   "execution_count": 24,
   "metadata": {},
   "outputs": [],
   "source": [
    "condition = DecisionCondition(150000.0)\n",
    "model: DuelingDQN = DuelingDQN(input_dim=40, output_dim=9)\n",
    "target: DuelingDQN = DuelingDQN(input_dim=40, output_dim=9)\n",
    "target.load_state_dict(model.state_dict())\n",
    "\n",
    "agent = Agent(model, target, condition, batch_size=8)"
   ]
  },
  {
   "cell_type": "code",
   "execution_count": 25,
   "metadata": {},
   "outputs": [],
   "source": [
    "dst_dir = 'notebooks/time-sampled'\n",
    "pairs = list(zip(glob.glob(f'{dst_dir}/orderbook_*'), glob.glob(f'{dst_dir}/trade_*')))\n",
    "outputs: List[SimulatedOrdersOutput] = []"
   ]
  },
  {
   "cell_type": "code",
   "execution_count": 26,
   "metadata": {},
   "outputs": [],
   "source": [
    "from tqdm import notebook\n",
    "total = 200"
   ]
  },
  {
   "cell_type": "code",
   "execution_count": 27,
   "metadata": {},
   "outputs": [
    {
     "data": {
      "application/vnd.jupyter.widget-view+json": {
       "model_id": "dd652628b32b4dcf9617ebbc8e8a5a55",
       "version_major": 2,
       "version_minor": 0
      },
      "text/plain": [
       "HBox(children=(FloatProgress(value=0.0, max=4.0), HTML(value='')))"
      ]
     },
     "metadata": {},
     "output_type": "display_data"
    },
    {
     "name": "stdout",
     "output_type": "stream",
     "text": [
      "\n"
     ]
    }
   ],
   "source": [
    "for idx in notebook.tqdm(range(total)):\n",
    "    output_required = True if total - 20 < idx else False\n",
    "    ob_file, tr_file = random.choice(pairs)\n",
    "    output = init_simulation(agent, ob_file, tr_file, output_required=output_required)\n",
    "    agent.episode_files.append((ob_file, tr_file))\n",
    "    outputs.append(output)"
   ]
  },
  {
   "cell_type": "code",
   "execution_count": 29,
   "metadata": {
    "scrolled": true
   },
   "outputs": [
    {
     "data": {
      "text/html": [
       "<div>\n",
       "<style scoped>\n",
       "    .dataframe tbody tr th:only-of-type {\n",
       "        vertical-align: middle;\n",
       "    }\n",
       "\n",
       "    .dataframe tbody tr th {\n",
       "        vertical-align: top;\n",
       "    }\n",
       "\n",
       "    .dataframe thead th {\n",
       "        text-align: right;\n",
       "    }\n",
       "</style>\n",
       "<table border=\"1\" class=\"dataframe\">\n",
       "  <thead>\n",
       "    <tr style=\"text-align: right;\">\n",
       "      <th></th>\n",
       "      <th>ob_file</th>\n",
       "      <th>tr_file</th>\n",
       "      <th>usd</th>\n",
       "      <th>xbt</th>\n",
       "      <th>eth</th>\n",
       "      <th>xbt_price</th>\n",
       "      <th>pnl</th>\n",
       "    </tr>\n",
       "  </thead>\n",
       "  <tbody>\n",
       "    <tr>\n",
       "      <th>0</th>\n",
       "      <td>notebooks/time-sampled\\orderbook_2874.csv.gz</td>\n",
       "      <td>notebooks/time-sampled\\trade_2874.csv.gz</td>\n",
       "      <td>-69408.25</td>\n",
       "      <td>10.737534</td>\n",
       "      <td>0.0</td>\n",
       "      <td>6491.25</td>\n",
       "      <td>291.765229</td>\n",
       "    </tr>\n",
       "    <tr>\n",
       "      <th>1</th>\n",
       "      <td>notebooks/time-sampled\\orderbook_312.csv.gz</td>\n",
       "      <td>notebooks/time-sampled\\trade_312.csv.gz</td>\n",
       "      <td>23156.25</td>\n",
       "      <td>-2.949162</td>\n",
       "      <td>0.0</td>\n",
       "      <td>7850.25</td>\n",
       "      <td>4.593014</td>\n",
       "    </tr>\n",
       "    <tr>\n",
       "      <th>2</th>\n",
       "      <td>notebooks/time-sampled\\orderbook_936.csv.gz</td>\n",
       "      <td>notebooks/time-sampled\\trade_936.csv.gz</td>\n",
       "      <td>-7364.25</td>\n",
       "      <td>1.323674</td>\n",
       "      <td>0.0</td>\n",
       "      <td>5568.25</td>\n",
       "      <td>6.295957</td>\n",
       "    </tr>\n",
       "    <tr>\n",
       "      <th>3</th>\n",
       "      <td>notebooks/time-sampled\\orderbook_2019.csv.gz</td>\n",
       "      <td>notebooks/time-sampled\\trade_2019.csv.gz</td>\n",
       "      <td>1180.75</td>\n",
       "      <td>-0.222380</td>\n",
       "      <td>0.0</td>\n",
       "      <td>5320.25</td>\n",
       "      <td>-2.369465</td>\n",
       "    </tr>\n",
       "  </tbody>\n",
       "</table>\n",
       "</div>"
      ],
      "text/plain": [
       "                                        ob_file  \\\n",
       "0  notebooks/time-sampled\\orderbook_2874.csv.gz   \n",
       "1   notebooks/time-sampled\\orderbook_312.csv.gz   \n",
       "2   notebooks/time-sampled\\orderbook_936.csv.gz   \n",
       "3  notebooks/time-sampled\\orderbook_2019.csv.gz   \n",
       "\n",
       "                                    tr_file       usd        xbt  eth  \\\n",
       "0  notebooks/time-sampled\\trade_2874.csv.gz -69408.25  10.737534  0.0   \n",
       "1   notebooks/time-sampled\\trade_312.csv.gz  23156.25  -2.949162  0.0   \n",
       "2   notebooks/time-sampled\\trade_936.csv.gz  -7364.25   1.323674  0.0   \n",
       "3  notebooks/time-sampled\\trade_2019.csv.gz   1180.75  -0.222380  0.0   \n",
       "\n",
       "   xbt_price         pnl  \n",
       "0    6491.25  291.765229  \n",
       "1    7850.25    4.593014  \n",
       "2    5568.25    6.295957  \n",
       "3    5320.25   -2.369465  "
      ]
     },
     "execution_count": 29,
     "metadata": {},
     "output_type": "execute_result"
    }
   ],
   "source": [
    "res = agent.episode_results()\n",
    "res['pnl'] = res['usd'] + res['xbt'] * res['xbt_price']\n",
    "res"
   ]
  },
  {
   "cell_type": "code",
   "execution_count": 30,
   "metadata": {},
   "outputs": [
    {
     "data": {
      "text/plain": [
       "(302.65419923473564, -2.369464609488432)"
      ]
     },
     "execution_count": 30,
     "metadata": {},
     "output_type": "execute_result"
    }
   ],
   "source": [
    "res.pnl[res.pnl > 0].sum(), res.pnl[res.pnl < 0].sum()"
   ]
  },
  {
   "cell_type": "code",
   "execution_count": 33,
   "metadata": {},
   "outputs": [
    {
     "data": {
      "image/png": "[encoded data removed]",
      "text/plain": [
       "<Figure size 1152x432 with 1 Axes>"
      ]
     },
     "metadata": {
      "needs_background": "light"
     },
     "output_type": "display_data"
    }
   ],
   "source": [
    "orders_side1, orders_side2 = list(outputs[0].orders.values())\n",
    "\n",
    "make_plot_orderbook_trade('notebooks/time-sampled/orderbook_2874.csv.gz', 'XBTUSD', \n",
    "                          orders_side1 + orders_side2, orderbook_precomputed=True)"
   ]
  },
  {
   "cell_type": "code",
   "execution_count": null,
   "metadata": {},
   "outputs": [],
   "source": []
  }
 ],
 "metadata": {
  "kernelspec": {
   "display_name": "Python 3",
   "language": "python",
   "name": "python3"
  },
  "language_info": {
   "codemirror_mode": {
    "name": "ipython",
    "version": 3
   },
   "file_extension": ".py",
   "mimetype": "text/x-python",
   "name": "python",
   "nbconvert_exporter": "python",
   "pygments_lexer": "ipython3",
   "version": "3.7.6"
  }
 },
 "nbformat": 4,
 "nbformat_minor": 2
}
