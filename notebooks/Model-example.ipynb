{
 "cells": [
  {
   "cell_type": "code",
   "execution_count": 1,
   "metadata": {},
   "outputs": [
    {
     "name": "stdout",
     "output_type": "stream",
     "text": [
      "Processing c:\\cygwin64\\home\\evger\\thesis\n",
      "Building wheels for collected packages: backtesting-hft\n",
      "  Building wheel for backtesting-hft (setup.py): started\n",
      "  Building wheel for backtesting-hft (setup.py): finished with status 'done'\n",
      "  Created wheel for backtesting-hft: filename=backtesting_hft-1.0.0-py3-none-any.whl size=36508 sha256=a6d15329d0d439bd40a5060cf559408ab1f71c91c1e3c167a5d1545cea183cef\n",
      "  Stored in directory: C:\\cygwin64\\tmp\\pip-ephem-wheel-cache-t0m6y347\\wheels\\c4\\e2\\a2\\12f7ab9f08c449a62bb02647df45a7056114c556f36fa34ffb\n",
      "Successfully built backtesting-hft\n",
      "Installing collected packages: backtesting-hft\n",
      "  Attempting uninstall: backtesting-hft\n",
      "    Found existing installation: backtesting-hft 1.0.0\n",
      "    Uninstalling backtesting-hft-1.0.0:\n",
      "      Successfully uninstalled backtesting-hft-1.0.0\n",
      "Successfully installed backtesting-hft-1.0.0\n"
     ]
    }
   ],
   "source": [
    "!pip install ../"
   ]
  },
  {
   "cell_type": "code",
   "execution_count": 2,
   "metadata": {},
   "outputs": [],
   "source": [
    "import pandas as pd\n",
    "import glob\n",
    "import os"
   ]
  },
  {
   "cell_type": "code",
   "execution_count": 3,
   "metadata": {},
   "outputs": [],
   "source": [
    "dst_dir = 'time-sampled'\n",
    "pairs = zip(glob.glob(f'{dst_dir}/orderbook_*'), glob.glob(f'{dst_dir}/trade_*'))"
   ]
  },
  {
   "cell_type": "code",
   "execution_count": null,
   "metadata": {},
   "outputs": [],
   "source": [
    "from hft.backtesting.strategy import Strategy\n",
    "from hft.backtesting.backtest import BacktestOnSample\n",
    "from hft.backtesting.readers import OrderbookReader\n",
    "\n",
    "from typing import List, Dict, Tuple, Union, Callable\n",
    "from hft.utils.data import OrderBook, Trade\n",
    "from hft.backtesting.data import OrderStatus, OrderRequest\n",
    "\n",
    "from hft.units.metrics.instant import *\n",
    "from hft.units.metrics.time import TradeMetric\n",
    "\n",
    "\n",
    "\n",
    "tick_counter = 0\n",
    "names = ['vwap', 'liquidity-spectrum', 'trade-metric-60', 'hayashi-yoshido', 'lipton']\n",
    "\n",
    "class RLStrategy(Strategy):\n",
    "    \n",
    "    def get_state(self):\n",
    "#         vwap1 = np.fromiter(self.metrics_map['vwap1'].latest.values(), dtype=np.float) # np array [2, 3, 2]\n",
    "#         liq   = np.fromiter(self.metrics_map['liquidity-spectrum'].latest.values(), dtype=np.float) # np array [2, 3]\n",
    "#         trades = np.fromiter(self.metrics_map['trade-metric-60'].latest.values(), dtype=np.float) # np array [2, 2] ???\n",
    "#         hy = np.fromiter(self.metrics_map['hayashi-yoshido'].latest.values(), dtype=np.float) # np array [2, 2]\n",
    "#         lipton = np.fromiter(self.metrics_map['lipton'].latest.values(), dtype=np.float) # np array \n",
    "        # todo: may be without list() for dict_values collection?\n",
    "        items = list(map(lambda name: np.fromiter(self.metrics_map[name].latest.values(), dtype=np.float), names))\n",
    "        return items\n",
    "        \n",
    "    \n",
    "    def define_orders(self, row: Union[Trade, OrderBook],\n",
    "                    statuses: List[OrderStatus],\n",
    "                    memory: Dict[str, Union[Trade, OrderBook]]) -> List[OrderRequest]:\n",
    "        if tick_counter + 1 % 3000 == 0:\n",
    "            obs = self.get_state()\n",
    "            obs = np.stack(obs)\n",
    "            \n",
    "            orders = []\n",
    "        else:\n",
    "            orders = []\n",
    "            \n",
    "        tick_counter += 1\n",
    "        return orders\n",
    "        \n",
    "\n",
    "\n",
    "def init_simulation(orderbook_file, trade_file):\n",
    "    \n",
    "    vwap1 = VWAP_volume(int(2.5e5), name='vwap1')\n",
    "    vwap2 = VWAP_volume(int(1e6), name='vwap2')\n",
    "    liq = LiquiditySpectrum()\n",
    "    \n",
    "    \n",
    "    trade_metric = TradeMetric([\n",
    "        ('quantity', lambda x: len(x)),\n",
    "        ('total', lambda x: sum(x))\n",
    "    ], seconds=60)\n",
    "\n",
    "    hy = HayashiYoshido()\n",
    "    lipton = Lipton(hy.name)\n",
    "    \n",
    "    reader = OrderbookReader(orderbook_file, trade_file, nrows=None, is_precomputed=True)\n",
    "    strategy = RLStrategy([vwap1, vwap2, liq], [hy], [trade_metric], composite_metrics=[lipton], initial_balance=0.0)\n",
    "    backtest = BacktestOnSample(reader, strategy, delay=300)\n",
    "    backtest.run()"
   ]
  }
 ],
 "metadata": {
  "kernelspec": {
   "display_name": "Python 3",
   "language": "python",
   "name": "python3"
  },
  "language_info": {
   "codemirror_mode": {
    "name": "ipython",
    "version": 3
   },
   "file_extension": ".py",
   "mimetype": "text/x-python",
   "name": "python",
   "nbconvert_exporter": "python",
   "pygments_lexer": "ipython3",
   "version": "3.7.3"
  }
 },
 "nbformat": 4,
 "nbformat_minor": 2
}
