{
 "cells": [
  {
   "cell_type": "code",
   "execution_count": 1,
   "metadata": {},
   "outputs": [
    {
     "name": "stdout",
     "output_type": "stream",
     "text": [
      "C:\\cygwin64\\home\\evger\\thesis\n"
     ]
    }
   ],
   "source": [
    "%cd .."
   ]
  },
  {
   "cell_type": "code",
   "execution_count": 2,
   "metadata": {},
   "outputs": [],
   "source": [
    "from typing import Union, List, Dict\n",
    "\n",
    "import logging\n",
    "logging.disable(logging.CRITICAL)\n",
    "\n",
    "import pandas as pd\n",
    "import numpy as np\n",
    "import time\n",
    "\n",
    "import matplotlib.pyplot as plt\n",
    "from collections import defaultdict\n",
    "import datetime\n",
    "from hft.units.metrics import instant, composite, time as time_metric\n",
    "\n",
    "\n",
    "from hft.backtesting.data import OrderStatus, OrderRequest\n",
    "from hft.backtesting.strategy import Strategy\n",
    "from hft.utils.data import Trade, OrderBook\n",
    "from hft.backtesting import readers, backtest\n",
    "from hft.backtesting.output import StorageOutput\n",
    "from hft.backtesting.readers import TimeLimitedReader\n",
    "from hft.units.filters import Filters\n",
    "from hft.utils.consts import Statuses, QuoteSides, TradeSides"
   ]
  },
  {
   "cell_type": "code",
   "execution_count": 3,
   "metadata": {},
   "outputs": [],
   "source": [
    "class GatlingMM(Strategy):\n",
    "  def __init__(self, side_volume, filter=3, **kwargs):\n",
    "    super().__init__(filter=filter, **kwargs)\n",
    "    self.side_volume = side_volume\n",
    "    self.volumes_left = {} # add cancellation policy\n",
    "\n",
    "  def define_orders(self, row: Union[Trade, OrderBook],\n",
    "                    statuses: List[OrderStatus],\n",
    "                    memory: Dict[str, Union[Trade, OrderBook]],\n",
    "                    is_trade: bool) -> List[OrderRequest]:\n",
    "    if self.balance.get(row.symbol, None) is None:\n",
    "      if not is_trade and self.balance.get(row.symbol, None) is None:\n",
    "        # Initialize first orders\n",
    "        ask_volume = min(self._get_allowed_volume(row.symbol, memory, QuoteSides.ASK), self.side_volume)\n",
    "        self.volumes_left[(row.symbol, QuoteSides.ASK)] = self.side_volume - ask_volume\n",
    "        ask_order = OrderRequest.create_ask(row.ask_prices[0], ask_volume, row.symbol, row.timestamp)\n",
    "\n",
    "        bid_volume = min(self._get_allowed_volume(row.symbol, memory, QuoteSides.BID), self.side_volume)\n",
    "        self.volumes_left[(row.symbol, QuoteSides.BID)] = self.side_volume - bid_volume\n",
    "        bid_order = OrderRequest.create_bid(row.bid_prices[0], bid_volume, row.symbol, row.timestamp)\n",
    "\n",
    "        return [ask_order, bid_order]\n",
    "    elif self.balance.get(row.symbol, None) is not None:\n",
    "      orders = []\n",
    "      for status in statuses:\n",
    "        order: OrderRequest = self.active_orders[status.id]\n",
    "\n",
    "        if status.status != Statuses.PARTIAL: # finished and cancel\n",
    "          self.volumes_left[(order.symbol, order.side)] += order.volume - order.volume_filled\n",
    "        elif status.status == Statuses.PARTIAL:\n",
    "          self.volumes_left[(order.symbol, order.side)] += status.volume\n",
    "\n",
    "      for (symbol, side), left_volume in self.volumes_left.items():\n",
    "        if left_volume > 500:\n",
    "          volume = min(left_volume, self._get_allowed_volume(symbol, memory, side))\n",
    "          self.volumes_left[(symbol, side)] -= volume\n",
    "\n",
    "          if side == QuoteSides.BID:\n",
    "            price = memory[('orderbook', symbol)].bid_prices[0]\n",
    "          else:\n",
    "            price = memory[('orderbook', symbol)].ask_prices[0]\n",
    "\n",
    "          neworder = OrderRequest.create(price, volume, symbol, side, row.timestamp)\n",
    "          orders.append(neworder)\n",
    "\n",
    "      return orders\n",
    "    return []"
   ]
  },
  {
   "cell_type": "code",
   "execution_count": 4,
   "metadata": {},
   "outputs": [],
   "source": [
    "class OrdersOutput(StorageOutput):\n",
    "  def __init__(self, instant_metric_names, time_metric_names):\n",
    "    super().__init__(instant_metric_names, time_metric_names)\n",
    "    self.prices = defaultdict(list)\n",
    "    self.orders = defaultdict(list)\n",
    "    self.snapshots = defaultdict(list)\n",
    "    self.trades = defaultdict(list)\n",
    "    \n",
    "  def time_metric_action(self, timestamp, labels, object):\n",
    "    pass\n",
    "\n",
    "  def snapshot_action(self, timestamp: datetime.datetime, object: OrderBook):\n",
    "    self.snapshots[object.symbol].append((timestamp, object.bid_prices[0], object.ask_prices[0]))\n",
    "\n",
    "  def instant_metric_action(self, timestamp, labels, object):\n",
    "    pass\n",
    "\n",
    "  def trade_action(self, timestamp: datetime.datetime, object: Trade):\n",
    "    self.trades[(object.symbol, object.side)].append((object.timestamp, object.price, object.volume))\n",
    "\n",
    "  def additional_action(self, timestamp: datetime.datetime, labels, object: OrderRequest):\n",
    "    if 'order-request' in labels:\n",
    "        self.orders[(labels[1], labels[2])].append((timestamp, object.price, object.volume))\n",
    "\n",
    "  def metric_action(self, timestamp: datetime.datetime, object):\n",
    "    pass"
   ]
  },
  {
   "cell_type": "code",
   "execution_count": 5,
   "metadata": {},
   "outputs": [],
   "source": [
    "def init_backtest(ob_file: str, tr_file: str, time_limit: str, output_enabled: bool, strategy_dict: Dict = {}):\n",
    "  reader = TimeLimitedReader(ob_file, \n",
    "                           limit_time=time_limit,\n",
    "                           skip_time=None,\n",
    "                           trades_file=tr_file,\n",
    "                           nrows=500000)\n",
    "  \n",
    "  delay = 3 # millisec\n",
    "  target_contracts = 3000\n",
    "  filter_depth=4\n",
    "  \n",
    "  if output_enabled:\n",
    "    output = OrdersOutput([], [])\n",
    "    output.balances = []\n",
    "  else:\n",
    "    output = None\n",
    "  strategy = GatlingMM(target_contracts, filter=filter_depth, **strategy_dict)\n",
    "  \n",
    "  bt = backtest.Backtest(reader, strategy, output=output, delay=delay)\n",
    "  bt.run()"
   ]
  },
  {
   "cell_type": "code",
   "execution_count": 6,
   "metadata": {},
   "outputs": [],
   "source": [
    "orderbook_file =  'tests/resources/huge_dataset/orderbook_10_03_20.csv.gz'\n",
    "trade_file =      'tests/resources/huge_dataset/trades_10_03_20.csv.gz'\n",
    "time_limit =      '100 min'"
   ]
  },
  {
   "cell_type": "markdown",
   "metadata": {},
   "source": [
    "### Gatling w/o metrics"
   ]
  },
  {
   "cell_type": "code",
   "execution_count": 7,
   "metadata": {},
   "outputs": [
    {
     "name": "stdout",
     "output_type": "stream",
     "text": [
      "No metrics Gatling took 89.060 seconds\n"
     ]
    }
   ],
   "source": [
    "no_metrics_gatling = time.time()\n",
    "init_backtest(orderbook_file, trade_file, time_limit, output_enabled=False)\n",
    "no_metrics_gatling = time.time() - no_metrics_gatling\n",
    "print(f'No metrics Gatling took {no_metrics_gatling:.3f} seconds')"
   ]
  },
  {
   "cell_type": "markdown",
   "metadata": {},
   "source": [
    "### Gatling+Output w/o metrics"
   ]
  },
  {
   "cell_type": "code",
   "execution_count": 8,
   "metadata": {},
   "outputs": [
    {
     "name": "stdout",
     "output_type": "stream",
     "text": [
      "No metrics Gatling+output took 91.452 seconds\n"
     ]
    }
   ],
   "source": [
    "no_metrics_gatling_output = time.time()\n",
    "init_backtest(orderbook_file, trade_file, time_limit, output_enabled=True)\n",
    "no_metrics_gatling_output = time.time() - no_metrics_gatling_output\n",
    "print(f'No metrics Gatling+output took {no_metrics_gatling_output:.3f} seconds')"
   ]
  },
  {
   "cell_type": "markdown",
   "metadata": {},
   "source": [
    "### One metric Gatling: Instant VWAP "
   ]
  },
  {
   "cell_type": "code",
   "execution_count": 19,
   "metadata": {},
   "outputs": [
    {
     "name": "stdout",
     "output_type": "stream",
     "text": [
      "One metric Gatling took 267.736 seconds\n"
     ]
    }
   ],
   "source": [
    "vwap = instant.VWAP_volume([int(5e5), int(1e6), int(1.5e6)])\n",
    "\n",
    "one_metric_gatling = time.time()\n",
    "init_backtest(orderbook_file, trade_file, time_limit, output_enabled=False, strategy_dict={'instant_metrics': [vwap]})\n",
    "one_metric_gatling = time.time() - one_metric_gatling\n",
    "print(f'One metric Gatling took {one_metric_gatling:.3f} seconds')"
   ]
  },
  {
   "cell_type": "markdown",
   "metadata": {},
   "source": [
    "### One metric Gatling+Output: Instant VWAP "
   ]
  },
  {
   "cell_type": "code",
   "execution_count": 20,
   "metadata": {},
   "outputs": [
    {
     "name": "stdout",
     "output_type": "stream",
     "text": [
      "One metric Gatling took 325.861 seconds\n"
     ]
    }
   ],
   "source": [
    "vwap = instant.VWAP_volume([int(5e5), int(1e6), int(1.5e6)])\n",
    "\n",
    "one_metric_gatling_output = time.time()\n",
    "init_backtest(orderbook_file, trade_file, time_limit, output_enabled=True, strategy_dict={'instant_metrics': [vwap]})\n",
    "one_metric_gatling_output = time.time() - one_metric_gatling_output\n",
    "print(f'One metric Gatling took {one_metric_gatling_output:.3f} seconds')"
   ]
  },
  {
   "cell_type": "markdown",
   "metadata": {},
   "source": [
    "### Two metric Gatling: Instant VWAP and TradeMetric (60 sec)"
   ]
  },
  {
   "cell_type": "code",
   "execution_count": 11,
   "metadata": {},
   "outputs": [
    {
     "name": "stdout",
     "output_type": "stream",
     "text": [
      "Two metric Gatling took 322.235 seconds\n"
     ]
    }
   ],
   "source": [
    "vwap = instant.VWAP_volume([int(5e5), int(1e6), int(1.5e6)])\n",
    "\n",
    "defaults = [\n",
    "    (('XBTUSD', 0), [0.0]),\n",
    "    (('XBTUSD', 1), [0.0]),\n",
    "    (('ETHUSD', 0), [0.0]),\n",
    "    (('ETHUSD', 1), [0.0]),\n",
    "  ]\n",
    "trades = time_metric.TradeMetric(defaults, [('total', lambda trades: sum(map(lambda x: x.volume, trades)))], seconds=60, name='firefly')\n",
    "\n",
    "two_metric_gatling = time.time()\n",
    "init_backtest(orderbook_file, trade_file, time_limit, \n",
    "              output_enabled=False, \n",
    "              strategy_dict={'instant_metrics': [vwap], \n",
    "                             'time_metrics_trade': [trades]})\n",
    "\n",
    "two_metric_gatling = time.time() - two_metric_gatling\n",
    "print(f'Two metric Gatling took {two_metric_gatling:.3f} seconds')"
   ]
  },
  {
   "cell_type": "markdown",
   "metadata": {},
   "source": [
    "### Two metric Gatling+Output: Instant VWAP and TradeMetric (60 sec)"
   ]
  },
  {
   "cell_type": "code",
   "execution_count": 12,
   "metadata": {},
   "outputs": [
    {
     "name": "stdout",
     "output_type": "stream",
     "text": [
      "Two metric Gatling took 282.499 seconds\n"
     ]
    }
   ],
   "source": [
    "vwap = instant.VWAP_volume([int(5e5), int(1e6), int(1.5e6)])\n",
    "\n",
    "defaults = [\n",
    "    (('XBTUSD', 0), [0.0]),\n",
    "    (('XBTUSD', 1), [0.0]),\n",
    "    (('ETHUSD', 0), [0.0]),\n",
    "    (('ETHUSD', 1), [0.0]),\n",
    "  ]\n",
    "trades = time_metric.TradeMetric(defaults, [('total', lambda trades: sum(map(lambda x: x.volume, trades)))], seconds=60, name='firefly')\n",
    "\n",
    "two_metric_gatling_output = time.time()\n",
    "init_backtest(orderbook_file, trade_file, time_limit, \n",
    "              output_enabled=True, \n",
    "              strategy_dict={'instant_metrics': [vwap], \n",
    "                             'time_metrics_trade': [trades]})\n",
    "\n",
    "two_metric_gatling_output = time.time() - two_metric_gatling_output\n",
    "print(f'Two metric Gatling took {two_metric_gatling_output:.3f} seconds')"
   ]
  },
  {
   "cell_type": "markdown",
   "metadata": {},
   "source": [
    "### Three metric Galting: Instant VWAP, Delta Hayashi-Yoshido and TradeMetric (60sec)"
   ]
  },
  {
   "cell_type": "code",
   "execution_count": 13,
   "metadata": {},
   "outputs": [
    {
     "name": "stdout",
     "output_type": "stream",
     "text": [
      "Three metric Gatling took 414.888 seconds\n"
     ]
    }
   ],
   "source": [
    "vwap = instant.VWAP_volume([int(5e5), int(1e6), int(1.5e6)])\n",
    "hy = instant.HayashiYoshido(seconds=120)\n",
    "\n",
    "defaults = [\n",
    "    (('XBTUSD', 0), [0.0]),\n",
    "    (('XBTUSD', 1), [0.0]),\n",
    "    (('ETHUSD', 0), [0.0]),\n",
    "    (('ETHUSD', 1), [0.0]),\n",
    "  ]\n",
    "trades = time_metric.TradeMetric(defaults, [('total', lambda trades: sum(map(lambda x: x.volume, trades)))], seconds=60, name='firefly')\n",
    "\n",
    "three_metric_gatling = time.time()\n",
    "init_backtest(orderbook_file, trade_file, time_limit, \n",
    "              output_enabled=True, \n",
    "              strategy_dict={'instant_metrics': [vwap], \n",
    "                             'time_metrics_trade': [trades],\n",
    "                             'delta_metrics': [hy]})\n",
    "\n",
    "three_metric_gatling = time.time() - three_metric_gatling\n",
    "print(f'Three metric Gatling took {three_metric_gatling:.3f} seconds')"
   ]
  },
  {
   "cell_type": "markdown",
   "metadata": {},
   "source": [
    "### Four metric Gatling: VWAP, HY, TradeMetric and Lipton"
   ]
  },
  {
   "cell_type": "code",
   "execution_count": 14,
   "metadata": {},
   "outputs": [
    {
     "name": "stdout",
     "output_type": "stream",
     "text": [
      "Four metric Gatling took 454.165 seconds\n"
     ]
    }
   ],
   "source": [
    "vwap = instant.VWAP_volume([int(5e5), int(1e6), int(1.5e6)])\n",
    "hy = instant.HayashiYoshido(seconds=120)\n",
    "lipton = composite.Lipton(hy.name, 6)\n",
    "\n",
    "defaults = [\n",
    "    (('XBTUSD', 0), [0.0]),\n",
    "    (('XBTUSD', 1), [0.0]),\n",
    "    (('ETHUSD', 0), [0.0]),\n",
    "    (('ETHUSD', 1), [0.0]),\n",
    "  ]\n",
    "trades = time_metric.TradeMetric(defaults, [('total', lambda trades: sum(map(lambda x: x.volume, trades)))], seconds=60, name='firefly')\n",
    "\n",
    "four_metric_gatling = time.time()\n",
    "init_backtest(orderbook_file, trade_file, time_limit, \n",
    "              output_enabled=True, \n",
    "              strategy_dict={'instant_metrics': [vwap], \n",
    "                             'time_metrics_trade': [trades],\n",
    "                             'delta_metrics': [hy],\n",
    "                             'composite_metrics': [lipton]})\n",
    "\n",
    "four_metric_gatling = time.time() - four_metric_gatling\n",
    "print(f'Four metric Gatling took {four_metric_gatling:.3f} seconds')"
   ]
  },
  {
   "cell_type": "markdown",
   "metadata": {},
   "source": [
    "## Visualize performance\n",
    "\n",
    "Time consumption include IO operations: reading files with offset and processing dataframes "
   ]
  },
  {
   "cell_type": "code",
   "execution_count": 15,
   "metadata": {},
   "outputs": [],
   "source": [
    "import matplotlib.pyplot as plt\n",
    "\n",
    "historic_time_spent = 100 * 60 # 100 minutes\n",
    "total_events = 629790.0 # refer to Gatling.ipynb\n",
    "seconds = [no_metrics_gatling, \n",
    "           one_metric_gatling, \n",
    "           two_metric_gatling,\n",
    "           three_metric_gatling,\n",
    "           four_metric_gatling]\n",
    "\n",
    "iterations = [total_events / sec for sec in seconds]\n",
    "speed = [historic_time_spent / sec for sec in seconds]"
   ]
  },
  {
   "cell_type": "code",
   "execution_count": 16,
   "metadata": {},
   "outputs": [
    {
     "data": {
      "text/plain": [
       "[7071.519234674074,\n",
       " 1026.1753776074515,\n",
       " 1954.44255891414,\n",
       " 1517.9776427577283,\n",
       " 1386.6972080668586]"
      ]
     },
     "execution_count": 16,
     "metadata": {},
     "output_type": "execute_result"
    }
   ],
   "source": [
    "iterations"
   ]
  },
  {
   "cell_type": "code",
   "execution_count": 17,
   "metadata": {},
   "outputs": [
    {
     "data": {
      "text/plain": [
       "[67.37025898798717,\n",
       " 9.776357620230092,\n",
       " 18.619945304760062,\n",
       " 14.461750514530827,\n",
       " 13.211043758079917]"
      ]
     },
     "execution_count": 17,
     "metadata": {},
     "output_type": "execute_result"
    }
   ],
   "source": [
    "speed"
   ]
  },
  {
   "cell_type": "code",
   "execution_count": 18,
   "metadata": {},
   "outputs": [
    {
     "data": {
      "image/png": "[encoded data removed]",
      "text/plain": [
       "<Figure size 648x432 with 1 Axes>"
      ]
     },
     "metadata": {
      "needs_background": "light"
     },
     "output_type": "display_data"
    }
   ],
   "source": [
    "import matplotlib.patches as mpatches\n",
    "plt.figure(figsize=(9,6))\n",
    "x = range(0, 5)\n",
    "# y = (1,2,3,4,5)\n",
    "y = iterations\n",
    "\n",
    "colors = ['gold', 'g', 'y', 'r', 'orange']\n",
    "contents = [\n",
    "    'no metrics',\n",
    "    'VWAP',\n",
    "    'VWAP, TM(60)',\n",
    "    'VWAP, TM(60), HY',\n",
    "    'VWAP, TM(60), HY, Lipton'\n",
    "]\n",
    "\n",
    "\n",
    "patches = [mpatches.Patch(color=c, label=f'{msg}:{sec:.1f} seconds') for c, msg, sec in zip(colors, contents, seconds)]\n",
    "\n",
    "plt.bar(x,y,align='center', color=colors) # A bar chart\n",
    "plt.legend(handles=patches, loc=1)\n",
    "plt.xlabel('Amount of metrics')\n",
    "plt.ylabel('Iterations per second')\n",
    "plt.title('Iterations/sec vs Metrics Quantity')\n",
    "plt.show()"
   ]
  },
  {
   "cell_type": "code",
   "execution_count": null,
   "metadata": {},
   "outputs": [],
   "source": []
  }
 ],
 "metadata": {
  "kernelspec": {
   "display_name": "Python 3",
   "language": "python",
   "name": "python3"
  },
  "language_info": {
   "codemirror_mode": {
    "name": "ipython",
    "version": 3
   },
   "file_extension": ".py",
   "mimetype": "text/x-python",
   "name": "python",
   "nbconvert_exporter": "python",
   "pygments_lexer": "ipython3",
   "version": "3.7.6"
  }
 },
 "nbformat": 4,
 "nbformat_minor": 1
}
